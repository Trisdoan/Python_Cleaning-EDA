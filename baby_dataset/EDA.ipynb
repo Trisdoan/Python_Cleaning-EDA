{
 "cells": [
  {
   "cell_type": "markdown",
   "metadata": {},
   "source": [
    " # Project 7: Explanatory Data Analysis & Advanced Visualization (Baby Names Dataset)"
   ]
  },
  {
   "cell_type": "markdown",
   "metadata": {},
   "source": [
    "## First Inspection: The most popular Names in 2018"
   ]
  },
  {
   "cell_type": "markdown",
   "metadata": {},
   "source": [
    "1. __Load__ and __inspect__ the dataset \"us_baby_names.csv\". __Save__ the DataFrame in __df__."
   ]
  },
  {
   "cell_type": "code",
   "execution_count": 1,
   "metadata": {},
   "outputs": [],
   "source": [
    "import pandas as pd"
   ]
  },
  {
   "cell_type": "code",
   "execution_count": 2,
   "metadata": {},
   "outputs": [],
   "source": [
    "df = pd.read_csv(\"us_baby_names.csv\")"
   ]
  },
  {
   "cell_type": "code",
   "execution_count": 3,
   "metadata": {},
   "outputs": [
    {
     "name": "stdout",
     "output_type": "stream",
     "text": [
      "<class 'pandas.core.frame.DataFrame'>\n",
      "RangeIndex: 1957046 entries, 0 to 1957045\n",
      "Data columns (total 4 columns):\n",
      " #   Column  Dtype \n",
      "---  ------  ----- \n",
      " 0   Year    int64 \n",
      " 1   Name    object\n",
      " 2   Gender  object\n",
      " 3   Count   int64 \n",
      "dtypes: int64(2), object(2)\n",
      "memory usage: 59.7+ MB\n"
     ]
    }
   ],
   "source": [
    "df.info()"
   ]
  },
  {
   "cell_type": "markdown",
   "metadata": {
    "tags": []
   },
   "source": [
    "2. Find the most popular __Baby Girl Names__ in __2018__. "
   ]
  },
  {
   "cell_type": "code",
   "execution_count": 4,
   "metadata": {},
   "outputs": [
    {
     "data": {
      "text/html": [
       "<div>\n",
       "<style scoped>\n",
       "    .dataframe tbody tr th:only-of-type {\n",
       "        vertical-align: middle;\n",
       "    }\n",
       "\n",
       "    .dataframe tbody tr th {\n",
       "        vertical-align: top;\n",
       "    }\n",
       "\n",
       "    .dataframe thead th {\n",
       "        text-align: right;\n",
       "    }\n",
       "</style>\n",
       "<table border=\"1\" class=\"dataframe\">\n",
       "  <thead>\n",
       "    <tr style=\"text-align: right;\">\n",
       "      <th></th>\n",
       "      <th>Year</th>\n",
       "      <th>Name</th>\n",
       "      <th>Gender</th>\n",
       "      <th>Count</th>\n",
       "    </tr>\n",
       "  </thead>\n",
       "  <tbody>\n",
       "    <tr>\n",
       "      <th>0</th>\n",
       "      <td>1880</td>\n",
       "      <td>Mary</td>\n",
       "      <td>F</td>\n",
       "      <td>7065</td>\n",
       "    </tr>\n",
       "    <tr>\n",
       "      <th>1</th>\n",
       "      <td>1880</td>\n",
       "      <td>Anna</td>\n",
       "      <td>F</td>\n",
       "      <td>2604</td>\n",
       "    </tr>\n",
       "    <tr>\n",
       "      <th>2</th>\n",
       "      <td>1880</td>\n",
       "      <td>Emma</td>\n",
       "      <td>F</td>\n",
       "      <td>2003</td>\n",
       "    </tr>\n",
       "    <tr>\n",
       "      <th>3</th>\n",
       "      <td>1880</td>\n",
       "      <td>Elizabeth</td>\n",
       "      <td>F</td>\n",
       "      <td>1939</td>\n",
       "    </tr>\n",
       "    <tr>\n",
       "      <th>4</th>\n",
       "      <td>1880</td>\n",
       "      <td>Minnie</td>\n",
       "      <td>F</td>\n",
       "      <td>1746</td>\n",
       "    </tr>\n",
       "  </tbody>\n",
       "</table>\n",
       "</div>"
      ],
      "text/plain": [
       "   Year       Name Gender  Count\n",
       "0  1880       Mary      F   7065\n",
       "1  1880       Anna      F   2604\n",
       "2  1880       Emma      F   2003\n",
       "3  1880  Elizabeth      F   1939\n",
       "4  1880     Minnie      F   1746"
      ]
     },
     "execution_count": 4,
     "metadata": {},
     "output_type": "execute_result"
    }
   ],
   "source": [
    "df.head()"
   ]
  },
  {
   "cell_type": "code",
   "execution_count": 5,
   "metadata": {},
   "outputs": [
    {
     "data": {
      "text/html": [
       "<div>\n",
       "<style scoped>\n",
       "    .dataframe tbody tr th:only-of-type {\n",
       "        vertical-align: middle;\n",
       "    }\n",
       "\n",
       "    .dataframe tbody tr th {\n",
       "        vertical-align: top;\n",
       "    }\n",
       "\n",
       "    .dataframe thead th {\n",
       "        text-align: right;\n",
       "    }\n",
       "</style>\n",
       "<table border=\"1\" class=\"dataframe\">\n",
       "  <thead>\n",
       "    <tr style=\"text-align: right;\">\n",
       "      <th></th>\n",
       "      <th>Year</th>\n",
       "      <th>Name</th>\n",
       "      <th>Gender</th>\n",
       "      <th>Count</th>\n",
       "    </tr>\n",
       "  </thead>\n",
       "  <tbody>\n",
       "    <tr>\n",
       "      <th>1925013</th>\n",
       "      <td>2018</td>\n",
       "      <td>Emma</td>\n",
       "      <td>F</td>\n",
       "      <td>18688</td>\n",
       "    </tr>\n",
       "  </tbody>\n",
       "</table>\n",
       "</div>"
      ],
      "text/plain": [
       "         Year  Name Gender  Count\n",
       "1925013  2018  Emma      F  18688"
      ]
     },
     "execution_count": 5,
     "metadata": {},
     "output_type": "execute_result"
    }
   ],
   "source": [
    "df.loc[(df.Gender == 'F') & (df.Year == 2018)].head(1)"
   ]
  },
  {
   "cell_type": "markdown",
   "metadata": {},
   "source": [
    "3. Find the most popular __Baby Boy Names__ in __2018__."
   ]
  },
  {
   "cell_type": "code",
   "execution_count": 6,
   "metadata": {},
   "outputs": [
    {
     "data": {
      "text/html": [
       "<div>\n",
       "<style scoped>\n",
       "    .dataframe tbody tr th:only-of-type {\n",
       "        vertical-align: middle;\n",
       "    }\n",
       "\n",
       "    .dataframe tbody tr th {\n",
       "        vertical-align: top;\n",
       "    }\n",
       "\n",
       "    .dataframe thead th {\n",
       "        text-align: right;\n",
       "    }\n",
       "</style>\n",
       "<table border=\"1\" class=\"dataframe\">\n",
       "  <thead>\n",
       "    <tr style=\"text-align: right;\">\n",
       "      <th></th>\n",
       "      <th>Year</th>\n",
       "      <th>Name</th>\n",
       "      <th>Gender</th>\n",
       "      <th>Count</th>\n",
       "    </tr>\n",
       "  </thead>\n",
       "  <tbody>\n",
       "    <tr>\n",
       "      <th>1943042</th>\n",
       "      <td>2018</td>\n",
       "      <td>Liam</td>\n",
       "      <td>M</td>\n",
       "      <td>19837</td>\n",
       "    </tr>\n",
       "  </tbody>\n",
       "</table>\n",
       "</div>"
      ],
      "text/plain": [
       "         Year  Name Gender  Count\n",
       "1943042  2018  Liam      M  19837"
      ]
     },
     "execution_count": 6,
     "metadata": {},
     "output_type": "execute_result"
    }
   ],
   "source": [
    "df.loc[(df.Gender == 'M') & (df.Year == 2018)].head(1)"
   ]
  },
  {
   "cell_type": "markdown",
   "metadata": {},
   "source": [
    "4. __Create__ the function __most_pop(year, gender, n)__ that returns the __n__ most popular __M/F__ Names in the __year XYZ__."
   ]
  },
  {
   "cell_type": "code",
   "execution_count": 7,
   "metadata": {},
   "outputs": [],
   "source": [
    "def most_pop(year, gender,n):\n",
    "    top = df.loc[(df.Year == year) & (df.Gender == gender )].head(n)\n",
    "    return top"
   ]
  },
  {
   "cell_type": "code",
   "execution_count": 8,
   "metadata": {
    "tags": []
   },
   "outputs": [
    {
     "data": {
      "text/html": [
       "<div>\n",
       "<style scoped>\n",
       "    .dataframe tbody tr th:only-of-type {\n",
       "        vertical-align: middle;\n",
       "    }\n",
       "\n",
       "    .dataframe tbody tr th {\n",
       "        vertical-align: top;\n",
       "    }\n",
       "\n",
       "    .dataframe thead th {\n",
       "        text-align: right;\n",
       "    }\n",
       "</style>\n",
       "<table border=\"1\" class=\"dataframe\">\n",
       "  <thead>\n",
       "    <tr style=\"text-align: right;\">\n",
       "      <th></th>\n",
       "      <th>Year</th>\n",
       "      <th>Name</th>\n",
       "      <th>Gender</th>\n",
       "      <th>Count</th>\n",
       "    </tr>\n",
       "  </thead>\n",
       "  <tbody>\n",
       "    <tr>\n",
       "      <th>1943042</th>\n",
       "      <td>2018</td>\n",
       "      <td>Liam</td>\n",
       "      <td>M</td>\n",
       "      <td>19837</td>\n",
       "    </tr>\n",
       "    <tr>\n",
       "      <th>1943043</th>\n",
       "      <td>2018</td>\n",
       "      <td>Noah</td>\n",
       "      <td>M</td>\n",
       "      <td>18267</td>\n",
       "    </tr>\n",
       "  </tbody>\n",
       "</table>\n",
       "</div>"
      ],
      "text/plain": [
       "         Year  Name Gender  Count\n",
       "1943042  2018  Liam      M  19837\n",
       "1943043  2018  Noah      M  18267"
      ]
     },
     "execution_count": 8,
     "metadata": {},
     "output_type": "execute_result"
    }
   ],
   "source": [
    "most_pop(2018,'M', 2)"
   ]
  },
  {
   "cell_type": "markdown",
   "metadata": {},
   "source": [
    "## Evergreen Names (1880 - 2018)"
   ]
  },
  {
   "cell_type": "markdown",
   "metadata": {},
   "source": [
    "5. Find those __Evergreen Boy Names__ that are in __1880 and 2018__ among the most popular Boy Names (__Top 20__)."
   ]
  },
  {
   "cell_type": "code",
   "execution_count": 9,
   "metadata": {},
   "outputs": [
    {
     "data": {
      "text/html": [
       "<div>\n",
       "<style scoped>\n",
       "    .dataframe tbody tr th:only-of-type {\n",
       "        vertical-align: middle;\n",
       "    }\n",
       "\n",
       "    .dataframe tbody tr th {\n",
       "        vertical-align: top;\n",
       "    }\n",
       "\n",
       "    .dataframe thead th {\n",
       "        text-align: right;\n",
       "    }\n",
       "</style>\n",
       "<table border=\"1\" class=\"dataframe\">\n",
       "  <thead>\n",
       "    <tr style=\"text-align: right;\">\n",
       "      <th></th>\n",
       "      <th>Year</th>\n",
       "      <th>Name</th>\n",
       "      <th>Gender</th>\n",
       "      <th>Count</th>\n",
       "    </tr>\n",
       "  </thead>\n",
       "  <tbody>\n",
       "    <tr>\n",
       "      <th>942</th>\n",
       "      <td>1880</td>\n",
       "      <td>John</td>\n",
       "      <td>M</td>\n",
       "      <td>9655</td>\n",
       "    </tr>\n",
       "    <tr>\n",
       "      <th>943</th>\n",
       "      <td>1880</td>\n",
       "      <td>William</td>\n",
       "      <td>M</td>\n",
       "      <td>9532</td>\n",
       "    </tr>\n",
       "    <tr>\n",
       "      <th>944</th>\n",
       "      <td>1880</td>\n",
       "      <td>James</td>\n",
       "      <td>M</td>\n",
       "      <td>5927</td>\n",
       "    </tr>\n",
       "    <tr>\n",
       "      <th>945</th>\n",
       "      <td>1880</td>\n",
       "      <td>Charles</td>\n",
       "      <td>M</td>\n",
       "      <td>5348</td>\n",
       "    </tr>\n",
       "    <tr>\n",
       "      <th>946</th>\n",
       "      <td>1880</td>\n",
       "      <td>George</td>\n",
       "      <td>M</td>\n",
       "      <td>5126</td>\n",
       "    </tr>\n",
       "    <tr>\n",
       "      <th>947</th>\n",
       "      <td>1880</td>\n",
       "      <td>Frank</td>\n",
       "      <td>M</td>\n",
       "      <td>3242</td>\n",
       "    </tr>\n",
       "    <tr>\n",
       "      <th>948</th>\n",
       "      <td>1880</td>\n",
       "      <td>Joseph</td>\n",
       "      <td>M</td>\n",
       "      <td>2632</td>\n",
       "    </tr>\n",
       "    <tr>\n",
       "      <th>949</th>\n",
       "      <td>1880</td>\n",
       "      <td>Thomas</td>\n",
       "      <td>M</td>\n",
       "      <td>2534</td>\n",
       "    </tr>\n",
       "    <tr>\n",
       "      <th>950</th>\n",
       "      <td>1880</td>\n",
       "      <td>Henry</td>\n",
       "      <td>M</td>\n",
       "      <td>2444</td>\n",
       "    </tr>\n",
       "    <tr>\n",
       "      <th>951</th>\n",
       "      <td>1880</td>\n",
       "      <td>Robert</td>\n",
       "      <td>M</td>\n",
       "      <td>2415</td>\n",
       "    </tr>\n",
       "    <tr>\n",
       "      <th>952</th>\n",
       "      <td>1880</td>\n",
       "      <td>Edward</td>\n",
       "      <td>M</td>\n",
       "      <td>2364</td>\n",
       "    </tr>\n",
       "    <tr>\n",
       "      <th>953</th>\n",
       "      <td>1880</td>\n",
       "      <td>Harry</td>\n",
       "      <td>M</td>\n",
       "      <td>2152</td>\n",
       "    </tr>\n",
       "    <tr>\n",
       "      <th>954</th>\n",
       "      <td>1880</td>\n",
       "      <td>Walter</td>\n",
       "      <td>M</td>\n",
       "      <td>1755</td>\n",
       "    </tr>\n",
       "    <tr>\n",
       "      <th>955</th>\n",
       "      <td>1880</td>\n",
       "      <td>Arthur</td>\n",
       "      <td>M</td>\n",
       "      <td>1599</td>\n",
       "    </tr>\n",
       "    <tr>\n",
       "      <th>956</th>\n",
       "      <td>1880</td>\n",
       "      <td>Fred</td>\n",
       "      <td>M</td>\n",
       "      <td>1569</td>\n",
       "    </tr>\n",
       "    <tr>\n",
       "      <th>957</th>\n",
       "      <td>1880</td>\n",
       "      <td>Albert</td>\n",
       "      <td>M</td>\n",
       "      <td>1493</td>\n",
       "    </tr>\n",
       "    <tr>\n",
       "      <th>958</th>\n",
       "      <td>1880</td>\n",
       "      <td>Samuel</td>\n",
       "      <td>M</td>\n",
       "      <td>1024</td>\n",
       "    </tr>\n",
       "    <tr>\n",
       "      <th>959</th>\n",
       "      <td>1880</td>\n",
       "      <td>David</td>\n",
       "      <td>M</td>\n",
       "      <td>869</td>\n",
       "    </tr>\n",
       "    <tr>\n",
       "      <th>960</th>\n",
       "      <td>1880</td>\n",
       "      <td>Louis</td>\n",
       "      <td>M</td>\n",
       "      <td>828</td>\n",
       "    </tr>\n",
       "    <tr>\n",
       "      <th>961</th>\n",
       "      <td>1880</td>\n",
       "      <td>Joe</td>\n",
       "      <td>M</td>\n",
       "      <td>731</td>\n",
       "    </tr>\n",
       "  </tbody>\n",
       "</table>\n",
       "</div>"
      ],
      "text/plain": [
       "     Year     Name Gender  Count\n",
       "942  1880     John      M   9655\n",
       "943  1880  William      M   9532\n",
       "944  1880    James      M   5927\n",
       "945  1880  Charles      M   5348\n",
       "946  1880   George      M   5126\n",
       "947  1880    Frank      M   3242\n",
       "948  1880   Joseph      M   2632\n",
       "949  1880   Thomas      M   2534\n",
       "950  1880    Henry      M   2444\n",
       "951  1880   Robert      M   2415\n",
       "952  1880   Edward      M   2364\n",
       "953  1880    Harry      M   2152\n",
       "954  1880   Walter      M   1755\n",
       "955  1880   Arthur      M   1599\n",
       "956  1880     Fred      M   1569\n",
       "957  1880   Albert      M   1493\n",
       "958  1880   Samuel      M   1024\n",
       "959  1880    David      M    869\n",
       "960  1880    Louis      M    828\n",
       "961  1880      Joe      M    731"
      ]
     },
     "execution_count": 9,
     "metadata": {},
     "output_type": "execute_result"
    }
   ],
   "source": [
    "df_1880 = most_pop(1880,'M', 20)\n",
    "df_1880"
   ]
  },
  {
   "cell_type": "code",
   "execution_count": 10,
   "metadata": {},
   "outputs": [],
   "source": [
    "df_2018 = most_pop(2018,'M', 20)"
   ]
  },
  {
   "cell_type": "code",
   "execution_count": 11,
   "metadata": {},
   "outputs": [
    {
     "data": {
      "text/html": [
       "<div>\n",
       "<style scoped>\n",
       "    .dataframe tbody tr th:only-of-type {\n",
       "        vertical-align: middle;\n",
       "    }\n",
       "\n",
       "    .dataframe tbody tr th {\n",
       "        vertical-align: top;\n",
       "    }\n",
       "\n",
       "    .dataframe thead th {\n",
       "        text-align: right;\n",
       "    }\n",
       "</style>\n",
       "<table border=\"1\" class=\"dataframe\">\n",
       "  <thead>\n",
       "    <tr style=\"text-align: right;\">\n",
       "      <th></th>\n",
       "      <th>Name</th>\n",
       "      <th>Count_1880</th>\n",
       "      <th>Count_2018</th>\n",
       "    </tr>\n",
       "  </thead>\n",
       "  <tbody>\n",
       "    <tr>\n",
       "      <th>0</th>\n",
       "      <td>William</td>\n",
       "      <td>9532</td>\n",
       "      <td>14516</td>\n",
       "    </tr>\n",
       "    <tr>\n",
       "      <th>1</th>\n",
       "      <td>James</td>\n",
       "      <td>5927</td>\n",
       "      <td>13525</td>\n",
       "    </tr>\n",
       "    <tr>\n",
       "      <th>2</th>\n",
       "      <td>Henry</td>\n",
       "      <td>2444</td>\n",
       "      <td>10649</td>\n",
       "    </tr>\n",
       "  </tbody>\n",
       "</table>\n",
       "</div>"
      ],
      "text/plain": [
       "      Name  Count_1880  Count_2018\n",
       "0  William        9532       14516\n",
       "1    James        5927       13525\n",
       "2    Henry        2444       10649"
      ]
     },
     "execution_count": 11,
     "metadata": {},
     "output_type": "execute_result"
    }
   ],
   "source": [
    "evergreen_M_names = df_1880[[\"Name\", \"Count\"]].merge(df_2018[[\"Name\", \"Count\"]], how = \"inner\", on = \"Name\",\n",
    "                                                  suffixes = ['_1880', '_2018'])\n",
    "evergreen_M_names"
   ]
  },
  {
   "cell_type": "markdown",
   "metadata": {},
   "source": [
    "6. Find those __Evergreen Girl Names__ that are in __1880 and 2018__ among the most popular Girl Names (__Top 20__)."
   ]
  },
  {
   "cell_type": "code",
   "execution_count": 12,
   "metadata": {},
   "outputs": [
    {
     "data": {
      "text/html": [
       "<div>\n",
       "<style scoped>\n",
       "    .dataframe tbody tr th:only-of-type {\n",
       "        vertical-align: middle;\n",
       "    }\n",
       "\n",
       "    .dataframe tbody tr th {\n",
       "        vertical-align: top;\n",
       "    }\n",
       "\n",
       "    .dataframe thead th {\n",
       "        text-align: right;\n",
       "    }\n",
       "</style>\n",
       "<table border=\"1\" class=\"dataframe\">\n",
       "  <thead>\n",
       "    <tr style=\"text-align: right;\">\n",
       "      <th></th>\n",
       "      <th>Name</th>\n",
       "      <th>Count_1880</th>\n",
       "      <th>Count_2018</th>\n",
       "    </tr>\n",
       "  </thead>\n",
       "  <tbody>\n",
       "    <tr>\n",
       "      <th>0</th>\n",
       "      <td>Emma</td>\n",
       "      <td>2003</td>\n",
       "      <td>18688</td>\n",
       "    </tr>\n",
       "    <tr>\n",
       "      <th>1</th>\n",
       "      <td>Elizabeth</td>\n",
       "      <td>1939</td>\n",
       "      <td>8513</td>\n",
       "    </tr>\n",
       "    <tr>\n",
       "      <th>2</th>\n",
       "      <td>Ella</td>\n",
       "      <td>1156</td>\n",
       "      <td>8055</td>\n",
       "    </tr>\n",
       "  </tbody>\n",
       "</table>\n",
       "</div>"
      ],
      "text/plain": [
       "        Name  Count_1880  Count_2018\n",
       "0       Emma        2003       18688\n",
       "1  Elizabeth        1939        8513\n",
       "2       Ella        1156        8055"
      ]
     },
     "execution_count": 12,
     "metadata": {},
     "output_type": "execute_result"
    }
   ],
   "source": [
    "df_1880 = most_pop(1880,'F', 20)\n",
    "df_2018 = most_pop(2018,'F', 20)\n",
    "\n",
    "evergree_F_names = df_1880[[\"Name\", \"Count\"]].merge(df_2018[[\"Name\", \"Count\"]], how = \"inner\", on = \"Name\",\n",
    "                                                  suffixes = ['_1880', '_2018'])\n",
    "evergree_F_names"
   ]
  },
  {
   "cell_type": "markdown",
   "metadata": {},
   "source": [
    "## Advanced Data Aggregation"
   ]
  },
  {
   "cell_type": "markdown",
   "metadata": {},
   "source": [
    "7. Create the following __aggregated DataFrame agg__ (you can see the first and last 5 rows):"
   ]
  },
  {
   "cell_type": "code",
   "execution_count": 13,
   "metadata": {},
   "outputs": [
    {
     "data": {
      "text/html": [
       "<div>\n",
       "<style scoped>\n",
       "    .dataframe tbody tr th:only-of-type {\n",
       "        vertical-align: middle;\n",
       "    }\n",
       "\n",
       "    .dataframe tbody tr th {\n",
       "        vertical-align: top;\n",
       "    }\n",
       "\n",
       "    .dataframe thead th {\n",
       "        text-align: right;\n",
       "    }\n",
       "</style>\n",
       "<table border=\"1\" class=\"dataframe\">\n",
       "  <thead>\n",
       "    <tr style=\"text-align: right;\">\n",
       "      <th></th>\n",
       "      <th>Year</th>\n",
       "      <th>Name</th>\n",
       "      <th>Gender</th>\n",
       "      <th>Count</th>\n",
       "    </tr>\n",
       "  </thead>\n",
       "  <tbody>\n",
       "    <tr>\n",
       "      <th>0</th>\n",
       "      <td>1880</td>\n",
       "      <td>Mary</td>\n",
       "      <td>F</td>\n",
       "      <td>7065</td>\n",
       "    </tr>\n",
       "    <tr>\n",
       "      <th>1</th>\n",
       "      <td>1880</td>\n",
       "      <td>Anna</td>\n",
       "      <td>F</td>\n",
       "      <td>2604</td>\n",
       "    </tr>\n",
       "    <tr>\n",
       "      <th>2</th>\n",
       "      <td>1880</td>\n",
       "      <td>Emma</td>\n",
       "      <td>F</td>\n",
       "      <td>2003</td>\n",
       "    </tr>\n",
       "    <tr>\n",
       "      <th>3</th>\n",
       "      <td>1880</td>\n",
       "      <td>Elizabeth</td>\n",
       "      <td>F</td>\n",
       "      <td>1939</td>\n",
       "    </tr>\n",
       "    <tr>\n",
       "      <th>4</th>\n",
       "      <td>1880</td>\n",
       "      <td>Minnie</td>\n",
       "      <td>F</td>\n",
       "      <td>1746</td>\n",
       "    </tr>\n",
       "    <tr>\n",
       "      <th>...</th>\n",
       "      <td>...</td>\n",
       "      <td>...</td>\n",
       "      <td>...</td>\n",
       "      <td>...</td>\n",
       "    </tr>\n",
       "    <tr>\n",
       "      <th>1957041</th>\n",
       "      <td>2018</td>\n",
       "      <td>Zylas</td>\n",
       "      <td>M</td>\n",
       "      <td>5</td>\n",
       "    </tr>\n",
       "    <tr>\n",
       "      <th>1957042</th>\n",
       "      <td>2018</td>\n",
       "      <td>Zyran</td>\n",
       "      <td>M</td>\n",
       "      <td>5</td>\n",
       "    </tr>\n",
       "    <tr>\n",
       "      <th>1957043</th>\n",
       "      <td>2018</td>\n",
       "      <td>Zyrie</td>\n",
       "      <td>M</td>\n",
       "      <td>5</td>\n",
       "    </tr>\n",
       "    <tr>\n",
       "      <th>1957044</th>\n",
       "      <td>2018</td>\n",
       "      <td>Zyron</td>\n",
       "      <td>M</td>\n",
       "      <td>5</td>\n",
       "    </tr>\n",
       "    <tr>\n",
       "      <th>1957045</th>\n",
       "      <td>2018</td>\n",
       "      <td>Zzyzx</td>\n",
       "      <td>M</td>\n",
       "      <td>5</td>\n",
       "    </tr>\n",
       "  </tbody>\n",
       "</table>\n",
       "<p>1957046 rows × 4 columns</p>\n",
       "</div>"
      ],
      "text/plain": [
       "         Year       Name Gender  Count\n",
       "0        1880       Mary      F   7065\n",
       "1        1880       Anna      F   2604\n",
       "2        1880       Emma      F   2003\n",
       "3        1880  Elizabeth      F   1939\n",
       "4        1880     Minnie      F   1746\n",
       "...       ...        ...    ...    ...\n",
       "1957041  2018      Zylas      M      5\n",
       "1957042  2018      Zyran      M      5\n",
       "1957043  2018      Zyrie      M      5\n",
       "1957044  2018      Zyron      M      5\n",
       "1957045  2018      Zzyzx      M      5\n",
       "\n",
       "[1957046 rows x 4 columns]"
      ]
     },
     "execution_count": 13,
     "metadata": {},
     "output_type": "execute_result"
    }
   ],
   "source": [
    "df"
   ]
  },
  {
   "cell_type": "code",
   "execution_count": 14,
   "metadata": {
    "tags": []
   },
   "outputs": [
    {
     "data": {
      "text/html": [
       "<div>\n",
       "<style scoped>\n",
       "    .dataframe tbody tr th:only-of-type {\n",
       "        vertical-align: middle;\n",
       "    }\n",
       "\n",
       "    .dataframe tbody tr th {\n",
       "        vertical-align: top;\n",
       "    }\n",
       "\n",
       "    .dataframe thead th {\n",
       "        text-align: right;\n",
       "    }\n",
       "</style>\n",
       "<table border=\"1\" class=\"dataframe\">\n",
       "  <thead>\n",
       "    <tr style=\"text-align: right;\">\n",
       "      <th></th>\n",
       "      <th></th>\n",
       "      <th>Total</th>\n",
       "      <th>Num_year</th>\n",
       "      <th>First_year</th>\n",
       "      <th>Last_year</th>\n",
       "      <th>Max_count</th>\n",
       "    </tr>\n",
       "    <tr>\n",
       "      <th>Name</th>\n",
       "      <th>Gender</th>\n",
       "      <th></th>\n",
       "      <th></th>\n",
       "      <th></th>\n",
       "      <th></th>\n",
       "      <th></th>\n",
       "    </tr>\n",
       "  </thead>\n",
       "  <tbody>\n",
       "    <tr>\n",
       "      <th>Aaban</th>\n",
       "      <th>M</th>\n",
       "      <td>114</td>\n",
       "      <td>11</td>\n",
       "      <td>2007</td>\n",
       "      <td>2018</td>\n",
       "      <td>16</td>\n",
       "    </tr>\n",
       "    <tr>\n",
       "      <th>Aabha</th>\n",
       "      <th>F</th>\n",
       "      <td>35</td>\n",
       "      <td>5</td>\n",
       "      <td>2011</td>\n",
       "      <td>2016</td>\n",
       "      <td>9</td>\n",
       "    </tr>\n",
       "    <tr>\n",
       "      <th>Aabid</th>\n",
       "      <th>M</th>\n",
       "      <td>16</td>\n",
       "      <td>3</td>\n",
       "      <td>2003</td>\n",
       "      <td>2018</td>\n",
       "      <td>6</td>\n",
       "    </tr>\n",
       "    <tr>\n",
       "      <th>Aabidah</th>\n",
       "      <th>F</th>\n",
       "      <td>5</td>\n",
       "      <td>1</td>\n",
       "      <td>2018</td>\n",
       "      <td>2018</td>\n",
       "      <td>5</td>\n",
       "    </tr>\n",
       "    <tr>\n",
       "      <th>Aabir</th>\n",
       "      <th>M</th>\n",
       "      <td>10</td>\n",
       "      <td>2</td>\n",
       "      <td>2016</td>\n",
       "      <td>2018</td>\n",
       "      <td>5</td>\n",
       "    </tr>\n",
       "    <tr>\n",
       "      <th>...</th>\n",
       "      <th>...</th>\n",
       "      <td>...</td>\n",
       "      <td>...</td>\n",
       "      <td>...</td>\n",
       "      <td>...</td>\n",
       "      <td>...</td>\n",
       "    </tr>\n",
       "    <tr>\n",
       "      <th>Zyvion</th>\n",
       "      <th>M</th>\n",
       "      <td>5</td>\n",
       "      <td>1</td>\n",
       "      <td>2009</td>\n",
       "      <td>2009</td>\n",
       "      <td>5</td>\n",
       "    </tr>\n",
       "    <tr>\n",
       "      <th>Zyvon</th>\n",
       "      <th>M</th>\n",
       "      <td>7</td>\n",
       "      <td>1</td>\n",
       "      <td>2015</td>\n",
       "      <td>2015</td>\n",
       "      <td>7</td>\n",
       "    </tr>\n",
       "    <tr>\n",
       "      <th>Zyyanna</th>\n",
       "      <th>F</th>\n",
       "      <td>6</td>\n",
       "      <td>1</td>\n",
       "      <td>2010</td>\n",
       "      <td>2010</td>\n",
       "      <td>6</td>\n",
       "    </tr>\n",
       "    <tr>\n",
       "      <th>Zyyon</th>\n",
       "      <th>M</th>\n",
       "      <td>6</td>\n",
       "      <td>1</td>\n",
       "      <td>2014</td>\n",
       "      <td>2014</td>\n",
       "      <td>6</td>\n",
       "    </tr>\n",
       "    <tr>\n",
       "      <th>Zzyzx</th>\n",
       "      <th>M</th>\n",
       "      <td>10</td>\n",
       "      <td>2</td>\n",
       "      <td>2010</td>\n",
       "      <td>2018</td>\n",
       "      <td>5</td>\n",
       "    </tr>\n",
       "  </tbody>\n",
       "</table>\n",
       "<p>109173 rows × 5 columns</p>\n",
       "</div>"
      ],
      "text/plain": [
       "                Total  Num_year  First_year  Last_year  Max_count\n",
       "Name    Gender                                                   \n",
       "Aaban   M         114        11        2007       2018         16\n",
       "Aabha   F          35         5        2011       2016          9\n",
       "Aabid   M          16         3        2003       2018          6\n",
       "Aabidah F           5         1        2018       2018          5\n",
       "Aabir   M          10         2        2016       2018          5\n",
       "...               ...       ...         ...        ...        ...\n",
       "Zyvion  M           5         1        2009       2009          5\n",
       "Zyvon   M           7         1        2015       2015          7\n",
       "Zyyanna F           6         1        2010       2010          6\n",
       "Zyyon   M           6         1        2014       2014          6\n",
       "Zzyzx   M          10         2        2010       2018          5\n",
       "\n",
       "[109173 rows x 5 columns]"
      ]
     },
     "execution_count": 14,
     "metadata": {},
     "output_type": "execute_result"
    }
   ],
   "source": [
    "agg = df.groupby(by = [\"Name\", \"Gender\"]).agg(Total = ('Count', 'sum'), Num_year = ('Count','count'),\n",
    "                                             First_year = ('Year', 'min'), Last_year = ('Year', 'max'),\n",
    "                                             Max_count = ('Count', 'max'))\n",
    "agg"
   ]
  },
  {
   "cell_type": "code",
   "execution_count": 15,
   "metadata": {},
   "outputs": [],
   "source": [
    "# def best_year(group):\n",
    "#     return group.nlargest(1, 'Count').Year"
   ]
  },
  {
   "cell_type": "code",
   "execution_count": 16,
   "metadata": {
    "tags": []
   },
   "outputs": [],
   "source": [
    "# agg[\"Best_Year\"] = df.groupby(by = [\"Name\", \"Gender\"]).apply(best_year)"
   ]
  },
  {
   "cell_type": "code",
   "execution_count": 17,
   "metadata": {},
   "outputs": [],
   "source": [
    "# agg.reset_index(inplace = True)"
   ]
  },
  {
   "cell_type": "code",
   "execution_count": 18,
   "metadata": {},
   "outputs": [],
   "source": [
    "# agg"
   ]
  },
  {
   "cell_type": "markdown",
   "metadata": {},
   "source": [
    "9. __Filter__ agg for the combination (Mary, F)"
   ]
  },
  {
   "cell_type": "code",
   "execution_count": 19,
   "metadata": {},
   "outputs": [],
   "source": [
    "# agg.loc[(agg.Gender == 'F') & (agg.Name == 'Mary')]"
   ]
  },
  {
   "cell_type": "markdown",
   "metadata": {},
   "source": [
    "## Most Popular Names of all Times"
   ]
  },
  {
   "cell_type": "markdown",
   "metadata": {},
   "source": [
    "10. __Find__ the __10 most popular__ Male and Female Names of all Times (most popular in terms of total count). See Screenshot with final result below."
   ]
  },
  {
   "cell_type": "code",
   "execution_count": 20,
   "metadata": {},
   "outputs": [],
   "source": [
    "# top_df = agg.groupby(by = 'Gender').apply(lambda x: x.nlargest(10, 'Total')).reset_index(drop =  True)"
   ]
  },
  {
   "cell_type": "code",
   "execution_count": 21,
   "metadata": {},
   "outputs": [],
   "source": [
    "import seaborn as sns\n",
    "import matplotlib.pyplot as plt"
   ]
  },
  {
   "cell_type": "code",
   "execution_count": 22,
   "metadata": {
    "tags": []
   },
   "outputs": [],
   "source": [
    "# plt.figure(figsize = (15, 10))\n",
    "# sns.barplot(x = 'Name', y = 'Total', data = top_df, hue = 'Gender')"
   ]
  },
  {
   "cell_type": "markdown",
   "metadata": {},
   "source": [
    "## General Trends over time (1880 - 2018)"
   ]
  },
  {
   "cell_type": "markdown",
   "metadata": {},
   "source": [
    "11. __Count__ the total number of __registered Babies per Year__ and visualize. __Create__ the following Plot:"
   ]
  },
  {
   "cell_type": "code",
   "execution_count": 23,
   "metadata": {},
   "outputs": [
    {
     "data": {
      "text/plain": [
       "Year\n",
       "1880     201484\n",
       "1881     192696\n",
       "1882     221533\n",
       "1883     216944\n",
       "1884     243461\n",
       "         ...   \n",
       "2014    3698914\n",
       "2015    3691990\n",
       "2016    3657797\n",
       "2017    3561975\n",
       "2018    3487353\n",
       "Name: Count, Length: 139, dtype: int64"
      ]
     },
     "execution_count": 23,
     "metadata": {},
     "output_type": "execute_result"
    }
   ],
   "source": [
    "df.groupby(by = \"Year\").Count.sum()"
   ]
  },
  {
   "cell_type": "code",
   "execution_count": 24,
   "metadata": {},
   "outputs": [
    {
     "data": {
      "text/plain": [
       "([<matplotlib.axis.XTick at 0x1e7d4723400>,\n",
       "  <matplotlib.axis.XTick at 0x1e7d47233d0>,\n",
       "  <matplotlib.axis.XTick at 0x1e7d477e680>,\n",
       "  <matplotlib.axis.XTick at 0x1e7d48c1d50>,\n",
       "  <matplotlib.axis.XTick at 0x1e7d48c24a0>,\n",
       "  <matplotlib.axis.XTick at 0x1e7d48c2bf0>,\n",
       "  <matplotlib.axis.XTick at 0x1e7d48c2890>,\n",
       "  <matplotlib.axis.XTick at 0x1e7d48c3220>,\n",
       "  <matplotlib.axis.XTick at 0x1e7d48c3970>,\n",
       "  <matplotlib.axis.XTick at 0x1e7d48f8100>,\n",
       "  <matplotlib.axis.XTick at 0x1e7d4722080>,\n",
       "  <matplotlib.axis.XTick at 0x1e7d48f9030>,\n",
       "  <matplotlib.axis.XTick at 0x1e7d48c3c10>,\n",
       "  <matplotlib.axis.XTick at 0x1e7d48f9660>,\n",
       "  <matplotlib.axis.XTick at 0x1e7d48f8160>,\n",
       "  <matplotlib.axis.XTick at 0x1e7d48f9db0>,\n",
       "  <matplotlib.axis.XTick at 0x1e7d48fa500>,\n",
       "  <matplotlib.axis.XTick at 0x1e7d48fac50>,\n",
       "  <matplotlib.axis.XTick at 0x1e7d48fb3a0>,\n",
       "  <matplotlib.axis.XTick at 0x1e7d48fb370>,\n",
       "  <matplotlib.axis.XTick at 0x1e7d48fa260>,\n",
       "  <matplotlib.axis.XTick at 0x1e7d48f9000>,\n",
       "  <matplotlib.axis.XTick at 0x1e7d4918070>,\n",
       "  <matplotlib.axis.XTick at 0x1e7d49186a0>,\n",
       "  <matplotlib.axis.XTick at 0x1e7d4918df0>,\n",
       "  <matplotlib.axis.XTick at 0x1e7d48fbc70>,\n",
       "  <matplotlib.axis.XTick at 0x1e7d48fa890>,\n",
       "  <matplotlib.axis.XTick at 0x1e7d4918a90>],\n",
       " [Text(0, 0, '1880'),\n",
       "  Text(5, 0, '1885'),\n",
       "  Text(10, 0, '1890'),\n",
       "  Text(15, 0, '1895'),\n",
       "  Text(20, 0, '1900'),\n",
       "  Text(25, 0, '1905'),\n",
       "  Text(30, 0, '1910'),\n",
       "  Text(35, 0, '1915'),\n",
       "  Text(40, 0, '1920'),\n",
       "  Text(45, 0, '1925'),\n",
       "  Text(50, 0, '1930'),\n",
       "  Text(55, 0, '1935'),\n",
       "  Text(60, 0, '1940'),\n",
       "  Text(65, 0, '1945'),\n",
       "  Text(70, 0, '1950'),\n",
       "  Text(75, 0, '1955'),\n",
       "  Text(80, 0, '1960'),\n",
       "  Text(85, 0, '1965'),\n",
       "  Text(90, 0, '1970'),\n",
       "  Text(95, 0, '1975'),\n",
       "  Text(100, 0, '1980'),\n",
       "  Text(105, 0, '1985'),\n",
       "  Text(110, 0, '1990'),\n",
       "  Text(115, 0, '1995'),\n",
       "  Text(120, 0, '2000'),\n",
       "  Text(125, 0, '2005'),\n",
       "  Text(130, 0, '2010'),\n",
       "  Text(135, 0, '2015')])"
      ]
     },
     "execution_count": 24,
     "metadata": {},
     "output_type": "execute_result"
    },
    {
     "data": {
      "image/png": "[encoded data removed]",
      "text/plain": [
       "<Figure size 1080x720 with 1 Axes>"
      ]
     },
     "metadata": {
      "needs_background": "light"
     },
     "output_type": "display_data"
    }
   ],
   "source": [
    "plt.figure(figsize = (15, 10))\n",
    "df.groupby(by = \"Year\").Count.sum().plot(kind = 'bar')\n",
    "plt.xticks(ticks = range(0,len(df.groupby(by = \"Year\").Count.sum()),5), labels = range(1880,2019,5))"
   ]
  },
  {
   "cell_type": "markdown",
   "metadata": {},
   "source": [
    "12. __Count__ the total number of __Unique Names per Year__ and visualize. __Create__ the following Plot:"
   ]
  },
  {
   "cell_type": "code",
   "execution_count": 25,
   "metadata": {
    "tags": []
   },
   "outputs": [
    {
     "data": {
      "text/plain": [
       "([<matplotlib.axis.XTick at 0x1e7d4cf1d80>,\n",
       "  <matplotlib.axis.XTick at 0x1e7d4cf1d50>,\n",
       "  <matplotlib.axis.XTick at 0x1e7d4d0a0b0>,\n",
       "  <matplotlib.axis.XTick at 0x1e7d4e34730>,\n",
       "  <matplotlib.axis.XTick at 0x1e7d4e34e80>,\n",
       "  <matplotlib.axis.XTick at 0x1e7d4e35750>,\n",
       "  <matplotlib.axis.XTick at 0x1e7d4e35d50>,\n",
       "  <matplotlib.axis.XTick at 0x1e7d4e364a0>,\n",
       "  <matplotlib.axis.XTick at 0x1e7d4d0a290>,\n",
       "  <matplotlib.axis.XTick at 0x1e7d4e35e40>,\n",
       "  <matplotlib.axis.XTick at 0x1e7d4cf0bb0>,\n",
       "  <matplotlib.axis.XTick at 0x1e7d4e37310>,\n",
       "  <matplotlib.axis.XTick at 0x1e7d4e37a60>,\n",
       "  <matplotlib.axis.XTick at 0x1e7d4e581f0>,\n",
       "  <matplotlib.axis.XTick at 0x1e7d4e58940>,\n",
       "  <matplotlib.axis.XTick at 0x1e7d4e37b50>,\n",
       "  <matplotlib.axis.XTick at 0x1e7d4e35390>,\n",
       "  <matplotlib.axis.XTick at 0x1e7d4e58160>,\n",
       "  <matplotlib.axis.XTick at 0x1e7d4e595a0>,\n",
       "  <matplotlib.axis.XTick at 0x1e7d4e59cf0>,\n",
       "  <matplotlib.axis.XTick at 0x1e7d4e5a440>,\n",
       "  <matplotlib.axis.XTick at 0x1e7d4e5ab90>,\n",
       "  <matplotlib.axis.XTick at 0x1e7d4e5ab60>,\n",
       "  <matplotlib.axis.XTick at 0x1e7d4e59a50>,\n",
       "  <matplotlib.axis.XTick at 0x1e7d4e5af80>,\n",
       "  <matplotlib.axis.XTick at 0x1e7d4e5b6d0>,\n",
       "  <matplotlib.axis.XTick at 0x1e7d4e5be20>,\n",
       "  <matplotlib.axis.XTick at 0x1e7d4e785b0>],\n",
       " [Text(0, 0, '1880'),\n",
       "  Text(5, 0, '1885'),\n",
       "  Text(10, 0, '1890'),\n",
       "  Text(15, 0, '1895'),\n",
       "  Text(20, 0, '1900'),\n",
       "  Text(25, 0, '1905'),\n",
       "  Text(30, 0, '1910'),\n",
       "  Text(35, 0, '1915'),\n",
       "  Text(40, 0, '1920'),\n",
       "  Text(45, 0, '1925'),\n",
       "  Text(50, 0, '1930'),\n",
       "  Text(55, 0, '1935'),\n",
       "  Text(60, 0, '1940'),\n",
       "  Text(65, 0, '1945'),\n",
       "  Text(70, 0, '1950'),\n",
       "  Text(75, 0, '1955'),\n",
       "  Text(80, 0, '1960'),\n",
       "  Text(85, 0, '1965'),\n",
       "  Text(90, 0, '1970'),\n",
       "  Text(95, 0, '1975'),\n",
       "  Text(100, 0, '1980'),\n",
       "  Text(105, 0, '1985'),\n",
       "  Text(110, 0, '1990'),\n",
       "  Text(115, 0, '1995'),\n",
       "  Text(120, 0, '2000'),\n",
       "  Text(125, 0, '2005'),\n",
       "  Text(130, 0, '2010'),\n",
       "  Text(135, 0, '2015')])"
      ]
     },
     "execution_count": 25,
     "metadata": {},
     "output_type": "execute_result"
    },
    {
     "data": {
      "image/png": "[encoded data removed]",
      "text/plain": [
       "<Figure size 1080x720 with 1 Axes>"
      ]
     },
     "metadata": {
      "needs_background": "light"
     },
     "output_type": "display_data"
    }
   ],
   "source": [
    "plt.figure(figsize = (15, 10))\n",
    "df.groupby(by = \"Year\").Name.count().plot(kind = 'bar')\n",
    "plt.xticks(ticks = range(0,len(df.groupby(by = \"Year\").Name.count()),5), labels = range(1880,2019,5))"
   ]
  },
  {
   "cell_type": "markdown",
   "metadata": {},
   "source": [
    "## Creating the Features \"Popularity\" and \"Rank\""
   ]
  },
  {
   "cell_type": "markdown",
   "metadata": {},
   "source": [
    "13. __Add__ the column __\"Popularity\"__ to df: <br> "
   ]
  },
  {
   "cell_type": "markdown",
   "metadata": {},
   "source": [
    "- Popularity in __babies per million__ (example: assume 2,000,000 registered Girl Names in 1950, thereof 100,000 Maries -> Popularity Score in 1950 for (Mary, F) is 100,000 / 2,000,000 * 1,000,000 = 50,000 per million.)  "
   ]
  },
  {
   "cell_type": "code",
   "execution_count": 26,
   "metadata": {},
   "outputs": [],
   "source": [
    "df[\"Popularity\"] = df.Count.div(df.groupby(by = ['Year', 'Gender']).Count.transform('sum'))*1000000"
   ]
  },
  {
   "cell_type": "code",
   "execution_count": 27,
   "metadata": {},
   "outputs": [
    {
     "data": {
      "text/html": [
       "<div>\n",
       "<style scoped>\n",
       "    .dataframe tbody tr th:only-of-type {\n",
       "        vertical-align: middle;\n",
       "    }\n",
       "\n",
       "    .dataframe tbody tr th {\n",
       "        vertical-align: top;\n",
       "    }\n",
       "\n",
       "    .dataframe thead th {\n",
       "        text-align: right;\n",
       "    }\n",
       "</style>\n",
       "<table border=\"1\" class=\"dataframe\">\n",
       "  <thead>\n",
       "    <tr style=\"text-align: right;\">\n",
       "      <th></th>\n",
       "      <th>Year</th>\n",
       "      <th>Name</th>\n",
       "      <th>Gender</th>\n",
       "      <th>Count</th>\n",
       "      <th>Popularity</th>\n",
       "    </tr>\n",
       "  </thead>\n",
       "  <tbody>\n",
       "    <tr>\n",
       "      <th>0</th>\n",
       "      <td>1880</td>\n",
       "      <td>Mary</td>\n",
       "      <td>F</td>\n",
       "      <td>7065</td>\n",
       "      <td>77642.481922</td>\n",
       "    </tr>\n",
       "    <tr>\n",
       "      <th>1</th>\n",
       "      <td>1880</td>\n",
       "      <td>Anna</td>\n",
       "      <td>F</td>\n",
       "      <td>2604</td>\n",
       "      <td>28617.271468</td>\n",
       "    </tr>\n",
       "    <tr>\n",
       "      <th>2</th>\n",
       "      <td>1880</td>\n",
       "      <td>Emma</td>\n",
       "      <td>F</td>\n",
       "      <td>2003</td>\n",
       "      <td>22012.440381</td>\n",
       "    </tr>\n",
       "    <tr>\n",
       "      <th>3</th>\n",
       "      <td>1880</td>\n",
       "      <td>Elizabeth</td>\n",
       "      <td>F</td>\n",
       "      <td>1939</td>\n",
       "      <td>21309.097303</td>\n",
       "    </tr>\n",
       "    <tr>\n",
       "      <th>4</th>\n",
       "      <td>1880</td>\n",
       "      <td>Minnie</td>\n",
       "      <td>F</td>\n",
       "      <td>1746</td>\n",
       "      <td>19188.078335</td>\n",
       "    </tr>\n",
       "    <tr>\n",
       "      <th>...</th>\n",
       "      <td>...</td>\n",
       "      <td>...</td>\n",
       "      <td>...</td>\n",
       "      <td>...</td>\n",
       "      <td>...</td>\n",
       "    </tr>\n",
       "    <tr>\n",
       "      <th>1957041</th>\n",
       "      <td>2018</td>\n",
       "      <td>Zylas</td>\n",
       "      <td>M</td>\n",
       "      <td>5</td>\n",
       "      <td>2.777173</td>\n",
       "    </tr>\n",
       "    <tr>\n",
       "      <th>1957042</th>\n",
       "      <td>2018</td>\n",
       "      <td>Zyran</td>\n",
       "      <td>M</td>\n",
       "      <td>5</td>\n",
       "      <td>2.777173</td>\n",
       "    </tr>\n",
       "    <tr>\n",
       "      <th>1957043</th>\n",
       "      <td>2018</td>\n",
       "      <td>Zyrie</td>\n",
       "      <td>M</td>\n",
       "      <td>5</td>\n",
       "      <td>2.777173</td>\n",
       "    </tr>\n",
       "    <tr>\n",
       "      <th>1957044</th>\n",
       "      <td>2018</td>\n",
       "      <td>Zyron</td>\n",
       "      <td>M</td>\n",
       "      <td>5</td>\n",
       "      <td>2.777173</td>\n",
       "    </tr>\n",
       "    <tr>\n",
       "      <th>1957045</th>\n",
       "      <td>2018</td>\n",
       "      <td>Zzyzx</td>\n",
       "      <td>M</td>\n",
       "      <td>5</td>\n",
       "      <td>2.777173</td>\n",
       "    </tr>\n",
       "  </tbody>\n",
       "</table>\n",
       "<p>1957046 rows × 5 columns</p>\n",
       "</div>"
      ],
      "text/plain": [
       "         Year       Name Gender  Count    Popularity\n",
       "0        1880       Mary      F   7065  77642.481922\n",
       "1        1880       Anna      F   2604  28617.271468\n",
       "2        1880       Emma      F   2003  22012.440381\n",
       "3        1880  Elizabeth      F   1939  21309.097303\n",
       "4        1880     Minnie      F   1746  19188.078335\n",
       "...       ...        ...    ...    ...           ...\n",
       "1957041  2018      Zylas      M      5      2.777173\n",
       "1957042  2018      Zyran      M      5      2.777173\n",
       "1957043  2018      Zyrie      M      5      2.777173\n",
       "1957044  2018      Zyron      M      5      2.777173\n",
       "1957045  2018      Zzyzx      M      5      2.777173\n",
       "\n",
       "[1957046 rows x 5 columns]"
      ]
     },
     "execution_count": 27,
     "metadata": {},
     "output_type": "execute_result"
    }
   ],
   "source": [
    "df"
   ]
  },
  {
   "cell_type": "markdown",
   "metadata": {},
   "source": [
    "14. __Add__ the column __\"Rank\"__ to df: <br> "
   ]
  },
  {
   "cell_type": "markdown",
   "metadata": {},
   "source": [
    "- Rank (example: assume Mary is the most popular Girl Name in 1950 -> Rank 1 for (Mary, F) in 1950."
   ]
  },
  {
   "cell_type": "code",
   "execution_count": 28,
   "metadata": {},
   "outputs": [],
   "source": [
    "df[\"Rank\"] = df.groupby(by = ['Year', 'Gender']).Count.apply(lambda x: x.rank(ascending = False))"
   ]
  },
  {
   "cell_type": "code",
   "execution_count": 29,
   "metadata": {},
   "outputs": [
    {
     "data": {
      "text/html": [
       "<div>\n",
       "<style scoped>\n",
       "    .dataframe tbody tr th:only-of-type {\n",
       "        vertical-align: middle;\n",
       "    }\n",
       "\n",
       "    .dataframe tbody tr th {\n",
       "        vertical-align: top;\n",
       "    }\n",
       "\n",
       "    .dataframe thead th {\n",
       "        text-align: right;\n",
       "    }\n",
       "</style>\n",
       "<table border=\"1\" class=\"dataframe\">\n",
       "  <thead>\n",
       "    <tr style=\"text-align: right;\">\n",
       "      <th></th>\n",
       "      <th>Year</th>\n",
       "      <th>Name</th>\n",
       "      <th>Gender</th>\n",
       "      <th>Count</th>\n",
       "      <th>Popularity</th>\n",
       "      <th>Rank</th>\n",
       "    </tr>\n",
       "  </thead>\n",
       "  <tbody>\n",
       "    <tr>\n",
       "      <th>0</th>\n",
       "      <td>1880</td>\n",
       "      <td>Mary</td>\n",
       "      <td>F</td>\n",
       "      <td>7065</td>\n",
       "      <td>77642.481922</td>\n",
       "      <td>1.0</td>\n",
       "    </tr>\n",
       "    <tr>\n",
       "      <th>1</th>\n",
       "      <td>1880</td>\n",
       "      <td>Anna</td>\n",
       "      <td>F</td>\n",
       "      <td>2604</td>\n",
       "      <td>28617.271468</td>\n",
       "      <td>2.0</td>\n",
       "    </tr>\n",
       "    <tr>\n",
       "      <th>2</th>\n",
       "      <td>1880</td>\n",
       "      <td>Emma</td>\n",
       "      <td>F</td>\n",
       "      <td>2003</td>\n",
       "      <td>22012.440381</td>\n",
       "      <td>3.0</td>\n",
       "    </tr>\n",
       "    <tr>\n",
       "      <th>3</th>\n",
       "      <td>1880</td>\n",
       "      <td>Elizabeth</td>\n",
       "      <td>F</td>\n",
       "      <td>1939</td>\n",
       "      <td>21309.097303</td>\n",
       "      <td>4.0</td>\n",
       "    </tr>\n",
       "    <tr>\n",
       "      <th>4</th>\n",
       "      <td>1880</td>\n",
       "      <td>Minnie</td>\n",
       "      <td>F</td>\n",
       "      <td>1746</td>\n",
       "      <td>19188.078335</td>\n",
       "      <td>5.0</td>\n",
       "    </tr>\n",
       "    <tr>\n",
       "      <th>...</th>\n",
       "      <td>...</td>\n",
       "      <td>...</td>\n",
       "      <td>...</td>\n",
       "      <td>...</td>\n",
       "      <td>...</td>\n",
       "      <td>...</td>\n",
       "    </tr>\n",
       "    <tr>\n",
       "      <th>1957041</th>\n",
       "      <td>2018</td>\n",
       "      <td>Zylas</td>\n",
       "      <td>M</td>\n",
       "      <td>5</td>\n",
       "      <td>2.777173</td>\n",
       "      <td>13042.0</td>\n",
       "    </tr>\n",
       "    <tr>\n",
       "      <th>1957042</th>\n",
       "      <td>2018</td>\n",
       "      <td>Zyran</td>\n",
       "      <td>M</td>\n",
       "      <td>5</td>\n",
       "      <td>2.777173</td>\n",
       "      <td>13042.0</td>\n",
       "    </tr>\n",
       "    <tr>\n",
       "      <th>1957043</th>\n",
       "      <td>2018</td>\n",
       "      <td>Zyrie</td>\n",
       "      <td>M</td>\n",
       "      <td>5</td>\n",
       "      <td>2.777173</td>\n",
       "      <td>13042.0</td>\n",
       "    </tr>\n",
       "    <tr>\n",
       "      <th>1957044</th>\n",
       "      <td>2018</td>\n",
       "      <td>Zyron</td>\n",
       "      <td>M</td>\n",
       "      <td>5</td>\n",
       "      <td>2.777173</td>\n",
       "      <td>13042.0</td>\n",
       "    </tr>\n",
       "    <tr>\n",
       "      <th>1957045</th>\n",
       "      <td>2018</td>\n",
       "      <td>Zzyzx</td>\n",
       "      <td>M</td>\n",
       "      <td>5</td>\n",
       "      <td>2.777173</td>\n",
       "      <td>13042.0</td>\n",
       "    </tr>\n",
       "  </tbody>\n",
       "</table>\n",
       "<p>1957046 rows × 6 columns</p>\n",
       "</div>"
      ],
      "text/plain": [
       "         Year       Name Gender  Count    Popularity     Rank\n",
       "0        1880       Mary      F   7065  77642.481922      1.0\n",
       "1        1880       Anna      F   2604  28617.271468      2.0\n",
       "2        1880       Emma      F   2003  22012.440381      3.0\n",
       "3        1880  Elizabeth      F   1939  21309.097303      4.0\n",
       "4        1880     Minnie      F   1746  19188.078335      5.0\n",
       "...       ...        ...    ...    ...           ...      ...\n",
       "1957041  2018      Zylas      M      5      2.777173  13042.0\n",
       "1957042  2018      Zyran      M      5      2.777173  13042.0\n",
       "1957043  2018      Zyrie      M      5      2.777173  13042.0\n",
       "1957044  2018      Zyron      M      5      2.777173  13042.0\n",
       "1957045  2018      Zzyzx      M      5      2.777173  13042.0\n",
       "\n",
       "[1957046 rows x 6 columns]"
      ]
     },
     "execution_count": 29,
     "metadata": {},
     "output_type": "execute_result"
    }
   ],
   "source": [
    "df"
   ]
  },
  {
   "cell_type": "markdown",
   "metadata": {},
   "source": [
    "## Visualizing Name Trends over Time"
   ]
  },
  {
   "cell_type": "markdown",
   "metadata": {},
   "source": [
    "15. __Visualize__ Popularity and Rank over time (see example below)."
   ]
  },
  {
   "cell_type": "code",
   "execution_count": 30,
   "metadata": {},
   "outputs": [],
   "source": [
    "mary_df =df.loc[(df.Name == 'Mary') & (df.Gender == 'F')]"
   ]
  },
  {
   "cell_type": "code",
   "execution_count": 31,
   "metadata": {},
   "outputs": [
    {
     "data": {
      "text/html": [
       "<div>\n",
       "<style scoped>\n",
       "    .dataframe tbody tr th:only-of-type {\n",
       "        vertical-align: middle;\n",
       "    }\n",
       "\n",
       "    .dataframe tbody tr th {\n",
       "        vertical-align: top;\n",
       "    }\n",
       "\n",
       "    .dataframe thead th {\n",
       "        text-align: right;\n",
       "    }\n",
       "</style>\n",
       "<table border=\"1\" class=\"dataframe\">\n",
       "  <thead>\n",
       "    <tr style=\"text-align: right;\">\n",
       "      <th></th>\n",
       "      <th>Year</th>\n",
       "      <th>Name</th>\n",
       "      <th>Gender</th>\n",
       "      <th>Count</th>\n",
       "      <th>Popularity</th>\n",
       "      <th>Rank</th>\n",
       "    </tr>\n",
       "  </thead>\n",
       "  <tbody>\n",
       "    <tr>\n",
       "      <th>0</th>\n",
       "      <td>1880</td>\n",
       "      <td>Mary</td>\n",
       "      <td>F</td>\n",
       "      <td>7065</td>\n",
       "      <td>77642.481922</td>\n",
       "      <td>1.0</td>\n",
       "    </tr>\n",
       "    <tr>\n",
       "      <th>2000</th>\n",
       "      <td>1881</td>\n",
       "      <td>Mary</td>\n",
       "      <td>F</td>\n",
       "      <td>6919</td>\n",
       "      <td>75244.962100</td>\n",
       "      <td>1.0</td>\n",
       "    </tr>\n",
       "    <tr>\n",
       "      <th>3935</th>\n",
       "      <td>1882</td>\n",
       "      <td>Mary</td>\n",
       "      <td>F</td>\n",
       "      <td>8148</td>\n",
       "      <td>75551.475702</td>\n",
       "      <td>1.0</td>\n",
       "    </tr>\n",
       "    <tr>\n",
       "      <th>6062</th>\n",
       "      <td>1883</td>\n",
       "      <td>Mary</td>\n",
       "      <td>F</td>\n",
       "      <td>8012</td>\n",
       "      <td>71332.543915</td>\n",
       "      <td>1.0</td>\n",
       "    </tr>\n",
       "    <tr>\n",
       "      <th>8146</th>\n",
       "      <td>1884</td>\n",
       "      <td>Mary</td>\n",
       "      <td>F</td>\n",
       "      <td>9217</td>\n",
       "      <td>71439.090367</td>\n",
       "      <td>1.0</td>\n",
       "    </tr>\n",
       "    <tr>\n",
       "      <th>...</th>\n",
       "      <td>...</td>\n",
       "      <td>...</td>\n",
       "      <td>...</td>\n",
       "      <td>...</td>\n",
       "      <td>...</td>\n",
       "      <td>...</td>\n",
       "    </tr>\n",
       "    <tr>\n",
       "      <th>1793168</th>\n",
       "      <td>2014</td>\n",
       "      <td>Mary</td>\n",
       "      <td>F</td>\n",
       "      <td>2632</td>\n",
       "      <td>1476.702107</td>\n",
       "      <td>120.0</td>\n",
       "    </tr>\n",
       "    <tr>\n",
       "      <th>1826414</th>\n",
       "      <td>2015</td>\n",
       "      <td>Mary</td>\n",
       "      <td>F</td>\n",
       "      <td>2631</td>\n",
       "      <td>1477.713818</td>\n",
       "      <td>123.0</td>\n",
       "    </tr>\n",
       "    <tr>\n",
       "      <th>1859539</th>\n",
       "      <td>2016</td>\n",
       "      <td>Mary</td>\n",
       "      <td>F</td>\n",
       "      <td>2508</td>\n",
       "      <td>1419.988088</td>\n",
       "      <td>127.0</td>\n",
       "    </tr>\n",
       "    <tr>\n",
       "      <th>1892548</th>\n",
       "      <td>2017</td>\n",
       "      <td>Mary</td>\n",
       "      <td>F</td>\n",
       "      <td>2402</td>\n",
       "      <td>1397.211859</td>\n",
       "      <td>126.0</td>\n",
       "    </tr>\n",
       "    <tr>\n",
       "      <th>1925138</th>\n",
       "      <td>2018</td>\n",
       "      <td>Mary</td>\n",
       "      <td>F</td>\n",
       "      <td>2327</td>\n",
       "      <td>1379.403555</td>\n",
       "      <td>126.0</td>\n",
       "    </tr>\n",
       "  </tbody>\n",
       "</table>\n",
       "<p>139 rows × 6 columns</p>\n",
       "</div>"
      ],
      "text/plain": [
       "         Year  Name Gender  Count    Popularity   Rank\n",
       "0        1880  Mary      F   7065  77642.481922    1.0\n",
       "2000     1881  Mary      F   6919  75244.962100    1.0\n",
       "3935     1882  Mary      F   8148  75551.475702    1.0\n",
       "6062     1883  Mary      F   8012  71332.543915    1.0\n",
       "8146     1884  Mary      F   9217  71439.090367    1.0\n",
       "...       ...   ...    ...    ...           ...    ...\n",
       "1793168  2014  Mary      F   2632   1476.702107  120.0\n",
       "1826414  2015  Mary      F   2631   1477.713818  123.0\n",
       "1859539  2016  Mary      F   2508   1419.988088  127.0\n",
       "1892548  2017  Mary      F   2402   1397.211859  126.0\n",
       "1925138  2018  Mary      F   2327   1379.403555  126.0\n",
       "\n",
       "[139 rows x 6 columns]"
      ]
     },
     "execution_count": 31,
     "metadata": {},
     "output_type": "execute_result"
    }
   ],
   "source": [
    "mary_df"
   ]
  },
  {
   "cell_type": "code",
   "execution_count": 32,
   "metadata": {},
   "outputs": [
    {
     "data": {
      "image/png": "[encoded data removed]",
      "text/plain": [
       "<Figure size 864x576 with 2 Axes>"
      ]
     },
     "metadata": {
      "needs_background": "light"
     },
     "output_type": "display_data"
    }
   ],
   "source": [
    "fig, ax1 = plt.subplots(figsize = (12,8))\n",
    "ax1.bar(x = mary_df.Year, height = mary_df.Popularity, label = \"Popularity\")\n",
    "ax1.legend(loc = 2)\n",
    "\n",
    "ax2 = ax1.twinx()\n",
    "ax2.plot(mary_df.Year,mary_df.Rank,color = \"r\", label = \"Rank\")\n",
    "ax2.legend(loc = 1)\n",
    "\n",
    "plt.show()\n"
   ]
  },
  {
   "cell_type": "markdown",
   "metadata": {},
   "source": [
    "16. __Create__ this plot for all __Evergreen Names__ (see Questions 5. and 6.) (a reusable user-defined function might help)"
   ]
  },
  {
   "cell_type": "code",
   "execution_count": 33,
   "metadata": {},
   "outputs": [],
   "source": [
    "def plot_name(name, gender, critical_1 = \"Popularity\", critical_2 = \"Rank\"):\n",
    "    data = df.loc[(df.Name == name ) & (df.Gender == gender), [\"Name\", \"Gender\" ,\"Year\", critical_1, critical_2]]\n",
    "    fig, ax1 = plt.subplots(figsize = (12,8))\n",
    "    \n",
    "    ax1.bar(x = data.Year, height = data[critical_1], label = critical_1)\n",
    "    ax1.legend(loc = 2)\n",
    "    ax1.set_title(name)\n",
    "\n",
    "    ax2 = ax1.twinx()\n",
    "    ax2.plot(data.Year,data[critical_2],color = \"r\", label = critical_2)\n",
    "    ax2.legend(loc = 1)\n",
    "\n",
    "plt.show()"
   ]
  },
  {
   "cell_type": "code",
   "execution_count": 34,
   "metadata": {},
   "outputs": [
    {
     "data": {
      "image/png": "[encoded data removed]",
      "text/plain": [
       "<Figure size 864x576 with 2 Axes>"
      ]
     },
     "metadata": {
      "needs_background": "light"
     },
     "output_type": "display_data"
    }
   ],
   "source": [
    "plot_name(\"James\", \"M\", critical_1 = \"Count\")"
   ]
  },
  {
   "cell_type": "code",
   "execution_count": 35,
   "metadata": {},
   "outputs": [
    {
     "data": {
      "image/png": "[encoded data removed]",
      "text/plain": [
       "<Figure size 864x576 with 2 Axes>"
      ]
     },
     "metadata": {
      "needs_background": "light"
     },
     "output_type": "display_data"
    },
    {
     "data": {
      "image/png": "[encoded data removed]",
      "text/plain": [
       "<Figure size 864x576 with 2 Axes>"
      ]
     },
     "metadata": {
      "needs_background": "light"
     },
     "output_type": "display_data"
    },
    {
     "data": {
      "image/png": "[encoded data removed]",
      "text/plain": [
       "<Figure size 864x576 with 2 Axes>"
      ]
     },
     "metadata": {
      "needs_background": "light"
     },
     "output_type": "display_data"
    }
   ],
   "source": [
    "for name in evergreen_M_names.Name:\n",
    "    plot_name(name, \"M\")"
   ]
  },
  {
   "cell_type": "code",
   "execution_count": 36,
   "metadata": {},
   "outputs": [
    {
     "data": {
      "image/png": "[encoded data removed]",
      "text/plain": [
       "<Figure size 864x576 with 2 Axes>"
      ]
     },
     "metadata": {
      "needs_background": "light"
     },
     "output_type": "display_data"
    },
    {
     "data": {
      "image/png": "[encoded data removed]",
      "text/plain": [
       "<Figure size 864x576 with 2 Axes>"
      ]
     },
     "metadata": {
      "needs_background": "light"
     },
     "output_type": "display_data"
    },
    {
     "data": {
      "image/png": "[encoded data removed]",
      "text/plain": [
       "<Figure size 864x576 with 2 Axes>"
      ]
     },
     "metadata": {
      "needs_background": "light"
     },
     "output_type": "display_data"
    }
   ],
   "source": [
    "for name in evergree_F_names.Name:\n",
    "    plot_name(name, \"F\")"
   ]
  },
  {
   "cell_type": "markdown",
   "metadata": {},
   "source": [
    "# Why does a Name´s Popularity suddenly change? (Part 1)"
   ]
  },
  {
   "cell_type": "markdown",
   "metadata": {},
   "source": [
    "17. __Add__ the additional columns __\"Pop_lag1\"__ (Popularity one year ago) and __\"Pop_diff\"__ (change in popularity from previous year to this year) to df.  "
   ]
  },
  {
   "cell_type": "code",
   "execution_count": 37,
   "metadata": {},
   "outputs": [
    {
     "data": {
      "text/html": [
       "<div>\n",
       "<style scoped>\n",
       "    .dataframe tbody tr th:only-of-type {\n",
       "        vertical-align: middle;\n",
       "    }\n",
       "\n",
       "    .dataframe tbody tr th {\n",
       "        vertical-align: top;\n",
       "    }\n",
       "\n",
       "    .dataframe thead th {\n",
       "        text-align: right;\n",
       "    }\n",
       "</style>\n",
       "<table border=\"1\" class=\"dataframe\">\n",
       "  <thead>\n",
       "    <tr style=\"text-align: right;\">\n",
       "      <th></th>\n",
       "      <th>Year</th>\n",
       "      <th>Name</th>\n",
       "      <th>Gender</th>\n",
       "      <th>Count</th>\n",
       "      <th>Popularity</th>\n",
       "      <th>Rank</th>\n",
       "    </tr>\n",
       "  </thead>\n",
       "  <tbody>\n",
       "    <tr>\n",
       "      <th>0</th>\n",
       "      <td>1880</td>\n",
       "      <td>Mary</td>\n",
       "      <td>F</td>\n",
       "      <td>7065</td>\n",
       "      <td>77642.481922</td>\n",
       "      <td>1.0</td>\n",
       "    </tr>\n",
       "    <tr>\n",
       "      <th>1</th>\n",
       "      <td>1880</td>\n",
       "      <td>Anna</td>\n",
       "      <td>F</td>\n",
       "      <td>2604</td>\n",
       "      <td>28617.271468</td>\n",
       "      <td>2.0</td>\n",
       "    </tr>\n",
       "    <tr>\n",
       "      <th>2</th>\n",
       "      <td>1880</td>\n",
       "      <td>Emma</td>\n",
       "      <td>F</td>\n",
       "      <td>2003</td>\n",
       "      <td>22012.440381</td>\n",
       "      <td>3.0</td>\n",
       "    </tr>\n",
       "    <tr>\n",
       "      <th>3</th>\n",
       "      <td>1880</td>\n",
       "      <td>Elizabeth</td>\n",
       "      <td>F</td>\n",
       "      <td>1939</td>\n",
       "      <td>21309.097303</td>\n",
       "      <td>4.0</td>\n",
       "    </tr>\n",
       "    <tr>\n",
       "      <th>4</th>\n",
       "      <td>1880</td>\n",
       "      <td>Minnie</td>\n",
       "      <td>F</td>\n",
       "      <td>1746</td>\n",
       "      <td>19188.078335</td>\n",
       "      <td>5.0</td>\n",
       "    </tr>\n",
       "    <tr>\n",
       "      <th>...</th>\n",
       "      <td>...</td>\n",
       "      <td>...</td>\n",
       "      <td>...</td>\n",
       "      <td>...</td>\n",
       "      <td>...</td>\n",
       "      <td>...</td>\n",
       "    </tr>\n",
       "    <tr>\n",
       "      <th>1957041</th>\n",
       "      <td>2018</td>\n",
       "      <td>Zylas</td>\n",
       "      <td>M</td>\n",
       "      <td>5</td>\n",
       "      <td>2.777173</td>\n",
       "      <td>13042.0</td>\n",
       "    </tr>\n",
       "    <tr>\n",
       "      <th>1957042</th>\n",
       "      <td>2018</td>\n",
       "      <td>Zyran</td>\n",
       "      <td>M</td>\n",
       "      <td>5</td>\n",
       "      <td>2.777173</td>\n",
       "      <td>13042.0</td>\n",
       "    </tr>\n",
       "    <tr>\n",
       "      <th>1957043</th>\n",
       "      <td>2018</td>\n",
       "      <td>Zyrie</td>\n",
       "      <td>M</td>\n",
       "      <td>5</td>\n",
       "      <td>2.777173</td>\n",
       "      <td>13042.0</td>\n",
       "    </tr>\n",
       "    <tr>\n",
       "      <th>1957044</th>\n",
       "      <td>2018</td>\n",
       "      <td>Zyron</td>\n",
       "      <td>M</td>\n",
       "      <td>5</td>\n",
       "      <td>2.777173</td>\n",
       "      <td>13042.0</td>\n",
       "    </tr>\n",
       "    <tr>\n",
       "      <th>1957045</th>\n",
       "      <td>2018</td>\n",
       "      <td>Zzyzx</td>\n",
       "      <td>M</td>\n",
       "      <td>5</td>\n",
       "      <td>2.777173</td>\n",
       "      <td>13042.0</td>\n",
       "    </tr>\n",
       "  </tbody>\n",
       "</table>\n",
       "<p>1957046 rows × 6 columns</p>\n",
       "</div>"
      ],
      "text/plain": [
       "         Year       Name Gender  Count    Popularity     Rank\n",
       "0        1880       Mary      F   7065  77642.481922      1.0\n",
       "1        1880       Anna      F   2604  28617.271468      2.0\n",
       "2        1880       Emma      F   2003  22012.440381      3.0\n",
       "3        1880  Elizabeth      F   1939  21309.097303      4.0\n",
       "4        1880     Minnie      F   1746  19188.078335      5.0\n",
       "...       ...        ...    ...    ...           ...      ...\n",
       "1957041  2018      Zylas      M      5      2.777173  13042.0\n",
       "1957042  2018      Zyran      M      5      2.777173  13042.0\n",
       "1957043  2018      Zyrie      M      5      2.777173  13042.0\n",
       "1957044  2018      Zyron      M      5      2.777173  13042.0\n",
       "1957045  2018      Zzyzx      M      5      2.777173  13042.0\n",
       "\n",
       "[1957046 rows x 6 columns]"
      ]
     },
     "execution_count": 37,
     "metadata": {},
     "output_type": "execute_result"
    }
   ],
   "source": [
    "df"
   ]
  },
  {
   "cell_type": "code",
   "execution_count": 38,
   "metadata": {},
   "outputs": [],
   "source": [
    "df[\"Popularity_lag\"] = df.groupby(by = [\"Name\",\"Gender\"]).Popularity.shift()"
   ]
  },
  {
   "cell_type": "code",
   "execution_count": 39,
   "metadata": {},
   "outputs": [],
   "source": [
    "df.loc[(df.Year > 1880) & (df.Popularity_lag.isna()), \"Popularity_lag\"] = 0"
   ]
  },
  {
   "cell_type": "code",
   "execution_count": 40,
   "metadata": {},
   "outputs": [],
   "source": [
    "df[\"Pop_diff\"]  = df.Popularity - df.Popularity_lag"
   ]
  },
  {
   "cell_type": "code",
   "execution_count": 41,
   "metadata": {},
   "outputs": [
    {
     "data": {
      "text/html": [
       "<div>\n",
       "<style scoped>\n",
       "    .dataframe tbody tr th:only-of-type {\n",
       "        vertical-align: middle;\n",
       "    }\n",
       "\n",
       "    .dataframe tbody tr th {\n",
       "        vertical-align: top;\n",
       "    }\n",
       "\n",
       "    .dataframe thead th {\n",
       "        text-align: right;\n",
       "    }\n",
       "</style>\n",
       "<table border=\"1\" class=\"dataframe\">\n",
       "  <thead>\n",
       "    <tr style=\"text-align: right;\">\n",
       "      <th></th>\n",
       "      <th>Year</th>\n",
       "      <th>Name</th>\n",
       "      <th>Gender</th>\n",
       "      <th>Count</th>\n",
       "      <th>Popularity</th>\n",
       "      <th>Rank</th>\n",
       "      <th>Popularity_lag</th>\n",
       "      <th>Pop_diff</th>\n",
       "    </tr>\n",
       "  </thead>\n",
       "  <tbody>\n",
       "    <tr>\n",
       "      <th>0</th>\n",
       "      <td>1880</td>\n",
       "      <td>Mary</td>\n",
       "      <td>F</td>\n",
       "      <td>7065</td>\n",
       "      <td>77642.481922</td>\n",
       "      <td>1.0</td>\n",
       "      <td>NaN</td>\n",
       "      <td>NaN</td>\n",
       "    </tr>\n",
       "    <tr>\n",
       "      <th>1273</th>\n",
       "      <td>1880</td>\n",
       "      <td>Mary</td>\n",
       "      <td>M</td>\n",
       "      <td>27</td>\n",
       "      <td>244.366006</td>\n",
       "      <td>329.0</td>\n",
       "      <td>NaN</td>\n",
       "      <td>NaN</td>\n",
       "    </tr>\n",
       "    <tr>\n",
       "      <th>2000</th>\n",
       "      <td>1881</td>\n",
       "      <td>Mary</td>\n",
       "      <td>F</td>\n",
       "      <td>6919</td>\n",
       "      <td>75244.962100</td>\n",
       "      <td>1.0</td>\n",
       "      <td>77642.481922</td>\n",
       "      <td>-2397.519822</td>\n",
       "    </tr>\n",
       "    <tr>\n",
       "      <th>3238</th>\n",
       "      <td>1881</td>\n",
       "      <td>Mary</td>\n",
       "      <td>M</td>\n",
       "      <td>29</td>\n",
       "      <td>287.861191</td>\n",
       "      <td>301.0</td>\n",
       "      <td>244.366006</td>\n",
       "      <td>43.495185</td>\n",
       "    </tr>\n",
       "    <tr>\n",
       "      <th>3935</th>\n",
       "      <td>1882</td>\n",
       "      <td>Mary</td>\n",
       "      <td>F</td>\n",
       "      <td>8148</td>\n",
       "      <td>75551.475702</td>\n",
       "      <td>1.0</td>\n",
       "      <td>75244.962100</td>\n",
       "      <td>306.513601</td>\n",
       "    </tr>\n",
       "    <tr>\n",
       "      <th>...</th>\n",
       "      <td>...</td>\n",
       "      <td>...</td>\n",
       "      <td>...</td>\n",
       "      <td>...</td>\n",
       "      <td>...</td>\n",
       "      <td>...</td>\n",
       "      <td>...</td>\n",
       "      <td>...</td>\n",
       "    </tr>\n",
       "    <tr>\n",
       "      <th>1825554</th>\n",
       "      <td>2014</td>\n",
       "      <td>Mary</td>\n",
       "      <td>M</td>\n",
       "      <td>5</td>\n",
       "      <td>2.608835</td>\n",
       "      <td>13069.0</td>\n",
       "      <td>3.167940</td>\n",
       "      <td>-0.559105</td>\n",
       "    </tr>\n",
       "    <tr>\n",
       "      <th>1826414</th>\n",
       "      <td>2015</td>\n",
       "      <td>Mary</td>\n",
       "      <td>F</td>\n",
       "      <td>2631</td>\n",
       "      <td>1477.713818</td>\n",
       "      <td>123.0</td>\n",
       "      <td>1476.702107</td>\n",
       "      <td>1.011711</td>\n",
       "    </tr>\n",
       "    <tr>\n",
       "      <th>1859539</th>\n",
       "      <td>2016</td>\n",
       "      <td>Mary</td>\n",
       "      <td>F</td>\n",
       "      <td>2508</td>\n",
       "      <td>1419.988088</td>\n",
       "      <td>127.0</td>\n",
       "      <td>1477.713818</td>\n",
       "      <td>-57.725730</td>\n",
       "    </tr>\n",
       "    <tr>\n",
       "      <th>1892548</th>\n",
       "      <td>2017</td>\n",
       "      <td>Mary</td>\n",
       "      <td>F</td>\n",
       "      <td>2402</td>\n",
       "      <td>1397.211859</td>\n",
       "      <td>126.0</td>\n",
       "      <td>1419.988088</td>\n",
       "      <td>-22.776229</td>\n",
       "    </tr>\n",
       "    <tr>\n",
       "      <th>1925138</th>\n",
       "      <td>2018</td>\n",
       "      <td>Mary</td>\n",
       "      <td>F</td>\n",
       "      <td>2327</td>\n",
       "      <td>1379.403555</td>\n",
       "      <td>126.0</td>\n",
       "      <td>1397.211859</td>\n",
       "      <td>-17.808304</td>\n",
       "    </tr>\n",
       "  </tbody>\n",
       "</table>\n",
       "<p>270 rows × 8 columns</p>\n",
       "</div>"
      ],
      "text/plain": [
       "         Year  Name Gender  Count    Popularity     Rank  Popularity_lag  \\\n",
       "0        1880  Mary      F   7065  77642.481922      1.0             NaN   \n",
       "1273     1880  Mary      M     27    244.366006    329.0             NaN   \n",
       "2000     1881  Mary      F   6919  75244.962100      1.0    77642.481922   \n",
       "3238     1881  Mary      M     29    287.861191    301.0      244.366006   \n",
       "3935     1882  Mary      F   8148  75551.475702      1.0    75244.962100   \n",
       "...       ...   ...    ...    ...           ...      ...             ...   \n",
       "1825554  2014  Mary      M      5      2.608835  13069.0        3.167940   \n",
       "1826414  2015  Mary      F   2631   1477.713818    123.0     1476.702107   \n",
       "1859539  2016  Mary      F   2508   1419.988088    127.0     1477.713818   \n",
       "1892548  2017  Mary      F   2402   1397.211859    126.0     1419.988088   \n",
       "1925138  2018  Mary      F   2327   1379.403555    126.0     1397.211859   \n",
       "\n",
       "            Pop_diff  \n",
       "0                NaN  \n",
       "1273             NaN  \n",
       "2000    -2397.519822  \n",
       "3238       43.495185  \n",
       "3935      306.513601  \n",
       "...              ...  \n",
       "1825554    -0.559105  \n",
       "1826414     1.011711  \n",
       "1859539   -57.725730  \n",
       "1892548   -22.776229  \n",
       "1925138   -17.808304  \n",
       "\n",
       "[270 rows x 8 columns]"
      ]
     },
     "execution_count": 41,
     "metadata": {},
     "output_type": "execute_result"
    }
   ],
   "source": [
    "df[df.Name == \"Mary\"]"
   ]
  },
  {
   "cell_type": "markdown",
   "metadata": {
    "tags": []
   },
   "source": [
    "18. __Create__ df2 starting with the __year 1900__ (from 1900 till today)."
   ]
  },
  {
   "cell_type": "code",
   "execution_count": 42,
   "metadata": {},
   "outputs": [],
   "source": [
    "df2 =  df[df.Year >= 1900].copy()"
   ]
  },
  {
   "cell_type": "markdown",
   "metadata": {},
   "source": [
    "19. __Filter__ df2 and find the __20 largest values__ in \"Pop_diff\" (get complete rows)."
   ]
  },
  {
   "cell_type": "code",
   "execution_count": 43,
   "metadata": {},
   "outputs": [
    {
     "data": {
      "text/html": [
       "<div>\n",
       "<style scoped>\n",
       "    .dataframe tbody tr th:only-of-type {\n",
       "        vertical-align: middle;\n",
       "    }\n",
       "\n",
       "    .dataframe tbody tr th {\n",
       "        vertical-align: top;\n",
       "    }\n",
       "\n",
       "    .dataframe thead th {\n",
       "        text-align: right;\n",
       "    }\n",
       "</style>\n",
       "<table border=\"1\" class=\"dataframe\">\n",
       "  <thead>\n",
       "    <tr style=\"text-align: right;\">\n",
       "      <th></th>\n",
       "      <th>Year</th>\n",
       "      <th>Name</th>\n",
       "      <th>Gender</th>\n",
       "      <th>Count</th>\n",
       "      <th>Popularity</th>\n",
       "      <th>Rank</th>\n",
       "      <th>Popularity_lag</th>\n",
       "      <th>Pop_diff</th>\n",
       "    </tr>\n",
       "  </thead>\n",
       "  <tbody>\n",
       "    <tr>\n",
       "      <th>431066</th>\n",
       "      <td>1947</td>\n",
       "      <td>Linda</td>\n",
       "      <td>F</td>\n",
       "      <td>99689</td>\n",
       "      <td>56236.224976</td>\n",
       "      <td>1.0</td>\n",
       "      <td>33546.795584</td>\n",
       "      <td>22689.429392</td>\n",
       "    </tr>\n",
       "    <tr>\n",
       "      <th>321479</th>\n",
       "      <td>1935</td>\n",
       "      <td>Shirley</td>\n",
       "      <td>F</td>\n",
       "      <td>42358</td>\n",
       "      <td>40398.317993</td>\n",
       "      <td>2.0</td>\n",
       "      <td>21874.356531</td>\n",
       "      <td>18523.961462</td>\n",
       "    </tr>\n",
       "    <tr>\n",
       "      <th>922468</th>\n",
       "      <td>1983</td>\n",
       "      <td>Ashley</td>\n",
       "      <td>F</td>\n",
       "      <td>33293</td>\n",
       "      <td>19930.187772</td>\n",
       "      <td>4.0</td>\n",
       "      <td>8774.639361</td>\n",
       "      <td>11155.548411</td>\n",
       "    </tr>\n",
       "    <tr>\n",
       "      <th>711426</th>\n",
       "      <td>1971</td>\n",
       "      <td>Jennifer</td>\n",
       "      <td>F</td>\n",
       "      <td>56783</td>\n",
       "      <td>34133.547814</td>\n",
       "      <td>1.0</td>\n",
       "      <td>26403.416193</td>\n",
       "      <td>7730.131621</td>\n",
       "    </tr>\n",
       "    <tr>\n",
       "      <th>726721</th>\n",
       "      <td>1972</td>\n",
       "      <td>Jennifer</td>\n",
       "      <td>F</td>\n",
       "      <td>63603</td>\n",
       "      <td>41813.296659</td>\n",
       "      <td>1.0</td>\n",
       "      <td>34133.547814</td>\n",
       "      <td>7679.748845</td>\n",
       "    </tr>\n",
       "    <tr>\n",
       "      <th>312301</th>\n",
       "      <td>1934</td>\n",
       "      <td>Shirley</td>\n",
       "      <td>F</td>\n",
       "      <td>22840</td>\n",
       "      <td>21874.356531</td>\n",
       "      <td>4.0</td>\n",
       "      <td>14203.488412</td>\n",
       "      <td>7670.868118</td>\n",
       "    </tr>\n",
       "    <tr>\n",
       "      <th>645417</th>\n",
       "      <td>1966</td>\n",
       "      <td>Michelle</td>\n",
       "      <td>F</td>\n",
       "      <td>27151</td>\n",
       "      <td>16047.477506</td>\n",
       "      <td>4.0</td>\n",
       "      <td>9186.178467</td>\n",
       "      <td>6861.299039</td>\n",
       "    </tr>\n",
       "    <tr>\n",
       "      <th>751941</th>\n",
       "      <td>1973</td>\n",
       "      <td>Jason</td>\n",
       "      <td>M</td>\n",
       "      <td>46683</td>\n",
       "      <td>29939.989187</td>\n",
       "      <td>3.0</td>\n",
       "      <td>23080.621302</td>\n",
       "      <td>6859.367885</td>\n",
       "    </tr>\n",
       "    <tr>\n",
       "      <th>844807</th>\n",
       "      <td>1979</td>\n",
       "      <td>Amanda</td>\n",
       "      <td>F</td>\n",
       "      <td>31928</td>\n",
       "      <td>19889.848316</td>\n",
       "      <td>3.0</td>\n",
       "      <td>13393.836368</td>\n",
       "      <td>6496.011948</td>\n",
       "    </tr>\n",
       "    <tr>\n",
       "      <th>696647</th>\n",
       "      <td>1970</td>\n",
       "      <td>Jennifer</td>\n",
       "      <td>F</td>\n",
       "      <td>46157</td>\n",
       "      <td>26403.416193</td>\n",
       "      <td>1.0</td>\n",
       "      <td>19977.960342</td>\n",
       "      <td>6425.455851</td>\n",
       "    </tr>\n",
       "    <tr>\n",
       "      <th>472253</th>\n",
       "      <td>1951</td>\n",
       "      <td>Deborah</td>\n",
       "      <td>F</td>\n",
       "      <td>42052</td>\n",
       "      <td>23351.039669</td>\n",
       "      <td>4.0</td>\n",
       "      <td>16965.497515</td>\n",
       "      <td>6385.542154</td>\n",
       "    </tr>\n",
       "    <tr>\n",
       "      <th>366312</th>\n",
       "      <td>1940</td>\n",
       "      <td>Linda</td>\n",
       "      <td>F</td>\n",
       "      <td>18369</td>\n",
       "      <td>16065.061356</td>\n",
       "      <td>8.0</td>\n",
       "      <td>9770.252254</td>\n",
       "      <td>6294.809102</td>\n",
       "    </tr>\n",
       "    <tr>\n",
       "      <th>838069</th>\n",
       "      <td>1978</td>\n",
       "      <td>Nicholas</td>\n",
       "      <td>M</td>\n",
       "      <td>16353</td>\n",
       "      <td>9955.734029</td>\n",
       "      <td>25.0</td>\n",
       "      <td>3699.334898</td>\n",
       "      <td>6256.399131</td>\n",
       "    </tr>\n",
       "    <tr>\n",
       "      <th>472267</th>\n",
       "      <td>1951</td>\n",
       "      <td>Debra</td>\n",
       "      <td>F</td>\n",
       "      <td>17066</td>\n",
       "      <td>9476.572886</td>\n",
       "      <td>18.0</td>\n",
       "      <td>3607.568890</td>\n",
       "      <td>5869.003996</td>\n",
       "    </tr>\n",
       "    <tr>\n",
       "      <th>461953</th>\n",
       "      <td>1950</td>\n",
       "      <td>Deborah</td>\n",
       "      <td>F</td>\n",
       "      <td>29063</td>\n",
       "      <td>16965.497515</td>\n",
       "      <td>7.0</td>\n",
       "      <td>11227.739162</td>\n",
       "      <td>5737.758353</td>\n",
       "    </tr>\n",
       "    <tr>\n",
       "      <th>791025</th>\n",
       "      <td>1976</td>\n",
       "      <td>Jamie</td>\n",
       "      <td>F</td>\n",
       "      <td>12538</td>\n",
       "      <td>8557.602397</td>\n",
       "      <td>18.0</td>\n",
       "      <td>2904.426266</td>\n",
       "      <td>5653.176131</td>\n",
       "    </tr>\n",
       "    <tr>\n",
       "      <th>608783</th>\n",
       "      <td>1963</td>\n",
       "      <td>Lisa</td>\n",
       "      <td>F</td>\n",
       "      <td>56040</td>\n",
       "      <td>29076.856503</td>\n",
       "      <td>1.0</td>\n",
       "      <td>23430.845749</td>\n",
       "      <td>5646.010754</td>\n",
       "    </tr>\n",
       "    <tr>\n",
       "      <th>633462</th>\n",
       "      <td>1965</td>\n",
       "      <td>Lisa</td>\n",
       "      <td>F</td>\n",
       "      <td>60269</td>\n",
       "      <td>34145.910326</td>\n",
       "      <td>1.0</td>\n",
       "      <td>28644.577137</td>\n",
       "      <td>5501.333189</td>\n",
       "    </tr>\n",
       "    <tr>\n",
       "      <th>706008</th>\n",
       "      <td>1970</td>\n",
       "      <td>Jason</td>\n",
       "      <td>M</td>\n",
       "      <td>27287</td>\n",
       "      <td>14677.468980</td>\n",
       "      <td>13.0</td>\n",
       "      <td>9220.997066</td>\n",
       "      <td>5456.471914</td>\n",
       "    </tr>\n",
       "    <tr>\n",
       "      <th>1045895</th>\n",
       "      <td>1989</td>\n",
       "      <td>Brittany</td>\n",
       "      <td>F</td>\n",
       "      <td>37788</td>\n",
       "      <td>20500.000814</td>\n",
       "      <td>3.0</td>\n",
       "      <td>15061.247576</td>\n",
       "      <td>5438.753238</td>\n",
       "    </tr>\n",
       "  </tbody>\n",
       "</table>\n",
       "</div>"
      ],
      "text/plain": [
       "         Year      Name Gender  Count    Popularity  Rank  Popularity_lag  \\\n",
       "431066   1947     Linda      F  99689  56236.224976   1.0    33546.795584   \n",
       "321479   1935   Shirley      F  42358  40398.317993   2.0    21874.356531   \n",
       "922468   1983    Ashley      F  33293  19930.187772   4.0     8774.639361   \n",
       "711426   1971  Jennifer      F  56783  34133.547814   1.0    26403.416193   \n",
       "726721   1972  Jennifer      F  63603  41813.296659   1.0    34133.547814   \n",
       "312301   1934   Shirley      F  22840  21874.356531   4.0    14203.488412   \n",
       "645417   1966  Michelle      F  27151  16047.477506   4.0     9186.178467   \n",
       "751941   1973     Jason      M  46683  29939.989187   3.0    23080.621302   \n",
       "844807   1979    Amanda      F  31928  19889.848316   3.0    13393.836368   \n",
       "696647   1970  Jennifer      F  46157  26403.416193   1.0    19977.960342   \n",
       "472253   1951   Deborah      F  42052  23351.039669   4.0    16965.497515   \n",
       "366312   1940     Linda      F  18369  16065.061356   8.0     9770.252254   \n",
       "838069   1978  Nicholas      M  16353   9955.734029  25.0     3699.334898   \n",
       "472267   1951     Debra      F  17066   9476.572886  18.0     3607.568890   \n",
       "461953   1950   Deborah      F  29063  16965.497515   7.0    11227.739162   \n",
       "791025   1976     Jamie      F  12538   8557.602397  18.0     2904.426266   \n",
       "608783   1963      Lisa      F  56040  29076.856503   1.0    23430.845749   \n",
       "633462   1965      Lisa      F  60269  34145.910326   1.0    28644.577137   \n",
       "706008   1970     Jason      M  27287  14677.468980  13.0     9220.997066   \n",
       "1045895  1989  Brittany      F  37788  20500.000814   3.0    15061.247576   \n",
       "\n",
       "             Pop_diff  \n",
       "431066   22689.429392  \n",
       "321479   18523.961462  \n",
       "922468   11155.548411  \n",
       "711426    7730.131621  \n",
       "726721    7679.748845  \n",
       "312301    7670.868118  \n",
       "645417    6861.299039  \n",
       "751941    6859.367885  \n",
       "844807    6496.011948  \n",
       "696647    6425.455851  \n",
       "472253    6385.542154  \n",
       "366312    6294.809102  \n",
       "838069    6256.399131  \n",
       "472267    5869.003996  \n",
       "461953    5737.758353  \n",
       "791025    5653.176131  \n",
       "608783    5646.010754  \n",
       "633462    5501.333189  \n",
       "706008    5456.471914  \n",
       "1045895   5438.753238  "
      ]
     },
     "execution_count": 43,
     "metadata": {},
     "output_type": "execute_result"
    }
   ],
   "source": [
    "df2.nlargest(20, \"Pop_diff\")"
   ]
  },
  {
   "cell_type": "markdown",
   "metadata": {},
   "source": [
    "20. __Create__ the popularity/rank plot (see 15. and 16.) for the Names filtered in 19."
   ]
  },
  {
   "cell_type": "code",
   "execution_count": 44,
   "metadata": {},
   "outputs": [
    {
     "data": {
      "text/html": [
       "<div>\n",
       "<style scoped>\n",
       "    .dataframe tbody tr th:only-of-type {\n",
       "        vertical-align: middle;\n",
       "    }\n",
       "\n",
       "    .dataframe tbody tr th {\n",
       "        vertical-align: top;\n",
       "    }\n",
       "\n",
       "    .dataframe thead th {\n",
       "        text-align: right;\n",
       "    }\n",
       "</style>\n",
       "<table border=\"1\" class=\"dataframe\">\n",
       "  <thead>\n",
       "    <tr style=\"text-align: right;\">\n",
       "      <th></th>\n",
       "      <th>Year</th>\n",
       "      <th>Name</th>\n",
       "      <th>Gender</th>\n",
       "      <th>Count</th>\n",
       "      <th>Popularity</th>\n",
       "      <th>Rank</th>\n",
       "      <th>Popularity_lag</th>\n",
       "      <th>Pop_diff</th>\n",
       "    </tr>\n",
       "  </thead>\n",
       "  <tbody>\n",
       "    <tr>\n",
       "      <th>431066</th>\n",
       "      <td>1947</td>\n",
       "      <td>Linda</td>\n",
       "      <td>F</td>\n",
       "      <td>99689</td>\n",
       "      <td>56236.224976</td>\n",
       "      <td>1.0</td>\n",
       "      <td>33546.795584</td>\n",
       "      <td>22689.429392</td>\n",
       "    </tr>\n",
       "    <tr>\n",
       "      <th>321479</th>\n",
       "      <td>1935</td>\n",
       "      <td>Shirley</td>\n",
       "      <td>F</td>\n",
       "      <td>42358</td>\n",
       "      <td>40398.317993</td>\n",
       "      <td>2.0</td>\n",
       "      <td>21874.356531</td>\n",
       "      <td>18523.961462</td>\n",
       "    </tr>\n",
       "    <tr>\n",
       "      <th>922468</th>\n",
       "      <td>1983</td>\n",
       "      <td>Ashley</td>\n",
       "      <td>F</td>\n",
       "      <td>33293</td>\n",
       "      <td>19930.187772</td>\n",
       "      <td>4.0</td>\n",
       "      <td>8774.639361</td>\n",
       "      <td>11155.548411</td>\n",
       "    </tr>\n",
       "    <tr>\n",
       "      <th>711426</th>\n",
       "      <td>1971</td>\n",
       "      <td>Jennifer</td>\n",
       "      <td>F</td>\n",
       "      <td>56783</td>\n",
       "      <td>34133.547814</td>\n",
       "      <td>1.0</td>\n",
       "      <td>26403.416193</td>\n",
       "      <td>7730.131621</td>\n",
       "    </tr>\n",
       "    <tr>\n",
       "      <th>726721</th>\n",
       "      <td>1972</td>\n",
       "      <td>Jennifer</td>\n",
       "      <td>F</td>\n",
       "      <td>63603</td>\n",
       "      <td>41813.296659</td>\n",
       "      <td>1.0</td>\n",
       "      <td>34133.547814</td>\n",
       "      <td>7679.748845</td>\n",
       "    </tr>\n",
       "  </tbody>\n",
       "</table>\n",
       "</div>"
      ],
      "text/plain": [
       "        Year      Name Gender  Count    Popularity  Rank  Popularity_lag  \\\n",
       "431066  1947     Linda      F  99689  56236.224976   1.0    33546.795584   \n",
       "321479  1935   Shirley      F  42358  40398.317993   2.0    21874.356531   \n",
       "922468  1983    Ashley      F  33293  19930.187772   4.0     8774.639361   \n",
       "711426  1971  Jennifer      F  56783  34133.547814   1.0    26403.416193   \n",
       "726721  1972  Jennifer      F  63603  41813.296659   1.0    34133.547814   \n",
       "\n",
       "            Pop_diff  \n",
       "431066  22689.429392  \n",
       "321479  18523.961462  \n",
       "922468  11155.548411  \n",
       "711426   7730.131621  \n",
       "726721   7679.748845  "
      ]
     },
     "execution_count": 44,
     "metadata": {},
     "output_type": "execute_result"
    }
   ],
   "source": [
    "top_5 = df2.nlargest(5, \"Pop_diff\")\n",
    "top_5"
   ]
  },
  {
   "cell_type": "code",
   "execution_count": 45,
   "metadata": {},
   "outputs": [
    {
     "data": {
      "text/plain": [
       "[('Linda', 'F'),\n",
       " ('Shirley', 'F'),\n",
       " ('Ashley', 'F'),\n",
       " ('Jennifer', 'F'),\n",
       " ('Jennifer', 'F')]"
      ]
     },
     "execution_count": 45,
     "metadata": {},
     "output_type": "execute_result"
    }
   ],
   "source": [
    "l = list(zip(top_5.Name, top_5.Gender))\n",
    "l"
   ]
  },
  {
   "cell_type": "code",
   "execution_count": 46,
   "metadata": {},
   "outputs": [
    {
     "data": {
      "image/png": "[encoded data removed]",
      "text/plain": [
       "<Figure size 864x576 with 2 Axes>"
      ]
     },
     "metadata": {
      "needs_background": "light"
     },
     "output_type": "display_data"
    },
    {
     "data": {
      "image/png": "[encoded data removed]",
      "text/plain": [
       "<Figure size 864x576 with 2 Axes>"
      ]
     },
     "metadata": {
      "needs_background": "light"
     },
     "output_type": "display_data"
    },
    {
     "data": {
      "image/png": "[encoded data removed]",
      "text/plain": [
       "<Figure size 864x576 with 2 Axes>"
      ]
     },
     "metadata": {
      "needs_background": "light"
     },
     "output_type": "display_data"
    },
    {
     "data": {
      "image/png": "[encoded data removed]",
      "text/plain": [
       "<Figure size 864x576 with 2 Axes>"
      ]
     },
     "metadata": {
      "needs_background": "light"
     },
     "output_type": "display_data"
    },
    {
     "data": {
      "image/png": "[encoded data removed]",
      "text/plain": [
       "<Figure size 864x576 with 2 Axes>"
      ]
     },
     "metadata": {
      "needs_background": "light"
     },
     "output_type": "display_data"
    }
   ],
   "source": [
    "for name in l:\n",
    "        plot_name(name = name[0], gender = name[1])"
   ]
  },
  {
   "cell_type": "markdown",
   "metadata": {},
   "source": [
    "## Why does a Name´s Popularity suddenly change? (Part 2)"
   ]
  },
  {
   "cell_type": "markdown",
   "metadata": {},
   "source": [
    "_No additional assignments on this. Watch the video for some more examples._"
   ]
  },
  {
   "cell_type": "code",
   "execution_count": 47,
   "metadata": {},
   "outputs": [],
   "source": [
    "df2[\"%change\"] = df2.Popularity.div(df2.Popularity_lag).sub(1).mul(100)"
   ]
  },
  {
   "cell_type": "code",
   "execution_count": 48,
   "metadata": {},
   "outputs": [
    {
     "data": {
      "text/html": [
       "<div>\n",
       "<style scoped>\n",
       "    .dataframe tbody tr th:only-of-type {\n",
       "        vertical-align: middle;\n",
       "    }\n",
       "\n",
       "    .dataframe tbody tr th {\n",
       "        vertical-align: top;\n",
       "    }\n",
       "\n",
       "    .dataframe thead th {\n",
       "        text-align: right;\n",
       "    }\n",
       "</style>\n",
       "<table border=\"1\" class=\"dataframe\">\n",
       "  <thead>\n",
       "    <tr style=\"text-align: right;\">\n",
       "      <th></th>\n",
       "      <th>Year</th>\n",
       "      <th>Name</th>\n",
       "      <th>Gender</th>\n",
       "      <th>Count</th>\n",
       "      <th>Popularity</th>\n",
       "      <th>Rank</th>\n",
       "      <th>Popularity_lag</th>\n",
       "      <th>Pop_diff</th>\n",
       "      <th>%change</th>\n",
       "    </tr>\n",
       "  </thead>\n",
       "  <tbody>\n",
       "    <tr>\n",
       "      <th>52265</th>\n",
       "      <td>1900</td>\n",
       "      <td>Mary</td>\n",
       "      <td>F</td>\n",
       "      <td>16706</td>\n",
       "      <td>55724.187620</td>\n",
       "      <td>1.0</td>\n",
       "      <td>56526.608961</td>\n",
       "      <td>-802.421342</td>\n",
       "      <td>-1.419546</td>\n",
       "    </tr>\n",
       "    <tr>\n",
       "      <th>52266</th>\n",
       "      <td>1900</td>\n",
       "      <td>Helen</td>\n",
       "      <td>F</td>\n",
       "      <td>6343</td>\n",
       "      <td>21157.579437</td>\n",
       "      <td>2.0</td>\n",
       "      <td>21663.097634</td>\n",
       "      <td>-505.518197</td>\n",
       "      <td>-2.333545</td>\n",
       "    </tr>\n",
       "    <tr>\n",
       "      <th>52267</th>\n",
       "      <td>1900</td>\n",
       "      <td>Anna</td>\n",
       "      <td>F</td>\n",
       "      <td>6114</td>\n",
       "      <td>20393.731779</td>\n",
       "      <td>3.0</td>\n",
       "      <td>21950.622900</td>\n",
       "      <td>-1556.891120</td>\n",
       "      <td>-7.092697</td>\n",
       "    </tr>\n",
       "    <tr>\n",
       "      <th>52268</th>\n",
       "      <td>1900</td>\n",
       "      <td>Margaret</td>\n",
       "      <td>F</td>\n",
       "      <td>5304</td>\n",
       "      <td>17691.912554</td>\n",
       "      <td>4.0</td>\n",
       "      <td>18234.251555</td>\n",
       "      <td>-542.339000</td>\n",
       "      <td>-2.974287</td>\n",
       "    </tr>\n",
       "    <tr>\n",
       "      <th>52269</th>\n",
       "      <td>1900</td>\n",
       "      <td>Ruth</td>\n",
       "      <td>F</td>\n",
       "      <td>4765</td>\n",
       "      <td>15894.035317</td>\n",
       "      <td>5.0</td>\n",
       "      <td>16788.042382</td>\n",
       "      <td>-894.007065</td>\n",
       "      <td>-5.325261</td>\n",
       "    </tr>\n",
       "    <tr>\n",
       "      <th>...</th>\n",
       "      <td>...</td>\n",
       "      <td>...</td>\n",
       "      <td>...</td>\n",
       "      <td>...</td>\n",
       "      <td>...</td>\n",
       "      <td>...</td>\n",
       "      <td>...</td>\n",
       "      <td>...</td>\n",
       "      <td>...</td>\n",
       "    </tr>\n",
       "    <tr>\n",
       "      <th>1957041</th>\n",
       "      <td>2018</td>\n",
       "      <td>Zylas</td>\n",
       "      <td>M</td>\n",
       "      <td>5</td>\n",
       "      <td>2.777173</td>\n",
       "      <td>13042.0</td>\n",
       "      <td>3.798491</td>\n",
       "      <td>-1.021318</td>\n",
       "      <td>-26.887470</td>\n",
       "    </tr>\n",
       "    <tr>\n",
       "      <th>1957042</th>\n",
       "      <td>2018</td>\n",
       "      <td>Zyran</td>\n",
       "      <td>M</td>\n",
       "      <td>5</td>\n",
       "      <td>2.777173</td>\n",
       "      <td>13042.0</td>\n",
       "      <td>3.138835</td>\n",
       "      <td>-0.361662</td>\n",
       "      <td>-11.522185</td>\n",
       "    </tr>\n",
       "    <tr>\n",
       "      <th>1957043</th>\n",
       "      <td>2018</td>\n",
       "      <td>Zyrie</td>\n",
       "      <td>M</td>\n",
       "      <td>5</td>\n",
       "      <td>2.777173</td>\n",
       "      <td>13042.0</td>\n",
       "      <td>2.713208</td>\n",
       "      <td>0.063965</td>\n",
       "      <td>2.357542</td>\n",
       "    </tr>\n",
       "    <tr>\n",
       "      <th>1957044</th>\n",
       "      <td>2018</td>\n",
       "      <td>Zyron</td>\n",
       "      <td>M</td>\n",
       "      <td>5</td>\n",
       "      <td>2.777173</td>\n",
       "      <td>13042.0</td>\n",
       "      <td>8.139624</td>\n",
       "      <td>-5.362451</td>\n",
       "      <td>-65.880819</td>\n",
       "    </tr>\n",
       "    <tr>\n",
       "      <th>1957045</th>\n",
       "      <td>2018</td>\n",
       "      <td>Zzyzx</td>\n",
       "      <td>M</td>\n",
       "      <td>5</td>\n",
       "      <td>2.777173</td>\n",
       "      <td>13042.0</td>\n",
       "      <td>2.608955</td>\n",
       "      <td>0.168218</td>\n",
       "      <td>6.447707</td>\n",
       "    </tr>\n",
       "  </tbody>\n",
       "</table>\n",
       "<p>1904781 rows × 9 columns</p>\n",
       "</div>"
      ],
      "text/plain": [
       "         Year      Name Gender  Count    Popularity     Rank  Popularity_lag  \\\n",
       "52265    1900      Mary      F  16706  55724.187620      1.0    56526.608961   \n",
       "52266    1900     Helen      F   6343  21157.579437      2.0    21663.097634   \n",
       "52267    1900      Anna      F   6114  20393.731779      3.0    21950.622900   \n",
       "52268    1900  Margaret      F   5304  17691.912554      4.0    18234.251555   \n",
       "52269    1900      Ruth      F   4765  15894.035317      5.0    16788.042382   \n",
       "...       ...       ...    ...    ...           ...      ...             ...   \n",
       "1957041  2018     Zylas      M      5      2.777173  13042.0        3.798491   \n",
       "1957042  2018     Zyran      M      5      2.777173  13042.0        3.138835   \n",
       "1957043  2018     Zyrie      M      5      2.777173  13042.0        2.713208   \n",
       "1957044  2018     Zyron      M      5      2.777173  13042.0        8.139624   \n",
       "1957045  2018     Zzyzx      M      5      2.777173  13042.0        2.608955   \n",
       "\n",
       "            Pop_diff    %change  \n",
       "52265    -802.421342  -1.419546  \n",
       "52266    -505.518197  -2.333545  \n",
       "52267   -1556.891120  -7.092697  \n",
       "52268    -542.339000  -2.974287  \n",
       "52269    -894.007065  -5.325261  \n",
       "...              ...        ...  \n",
       "1957041    -1.021318 -26.887470  \n",
       "1957042    -0.361662 -11.522185  \n",
       "1957043     0.063965   2.357542  \n",
       "1957044    -5.362451 -65.880819  \n",
       "1957045     0.168218   6.447707  \n",
       "\n",
       "[1904781 rows x 9 columns]"
      ]
     },
     "execution_count": 48,
     "metadata": {},
     "output_type": "execute_result"
    }
   ],
   "source": [
    "df2"
   ]
  },
  {
   "cell_type": "markdown",
   "metadata": {},
   "source": [
    "## Most Popular Unisex Names"
   ]
  },
  {
   "cell_type": "markdown",
   "metadata": {},
   "source": [
    "### Way 1"
   ]
  },
  {
   "cell_type": "code",
   "execution_count": 57,
   "metadata": {},
   "outputs": [],
   "source": [
    "unisex = df.groupby(by = [\"Name\", \"Gender\"]).Count.sum().unstack()"
   ]
  },
  {
   "cell_type": "code",
   "execution_count": 68,
   "metadata": {},
   "outputs": [
    {
     "data": {
      "text/plain": [
       "NoneType"
      ]
     },
     "execution_count": 68,
     "metadata": {},
     "output_type": "execute_result"
    }
   ],
   "source": [
    "unisex.dropna(inplace = True)"
   ]
  },
  {
   "cell_type": "code",
   "execution_count": 64,
   "metadata": {},
   "outputs": [],
   "source": [
    "unisex_names = unisex.min(axis=1).sort_values(ascending = False).index"
   ]
  },
  {
   "cell_type": "code",
   "execution_count": 67,
   "metadata": {},
   "outputs": [
    {
     "data": {
      "text/html": [
       "<div>\n",
       "<style scoped>\n",
       "    .dataframe tbody tr th:only-of-type {\n",
       "        vertical-align: middle;\n",
       "    }\n",
       "\n",
       "    .dataframe tbody tr th {\n",
       "        vertical-align: top;\n",
       "    }\n",
       "\n",
       "    .dataframe thead th {\n",
       "        text-align: right;\n",
       "    }\n",
       "</style>\n",
       "<table border=\"1\" class=\"dataframe\">\n",
       "  <thead>\n",
       "    <tr style=\"text-align: right;\">\n",
       "      <th>Gender</th>\n",
       "      <th>F</th>\n",
       "      <th>M</th>\n",
       "    </tr>\n",
       "    <tr>\n",
       "      <th>Name</th>\n",
       "      <th></th>\n",
       "      <th></th>\n",
       "    </tr>\n",
       "  </thead>\n",
       "  <tbody>\n",
       "    <tr>\n",
       "      <th>Willie</th>\n",
       "      <td>146156.0</td>\n",
       "      <td>448946.0</td>\n",
       "    </tr>\n",
       "    <tr>\n",
       "      <th>Jordan</th>\n",
       "      <td>131004.0</td>\n",
       "      <td>374513.0</td>\n",
       "    </tr>\n",
       "    <tr>\n",
       "      <th>Leslie</th>\n",
       "      <td>267081.0</td>\n",
       "      <td>112726.0</td>\n",
       "    </tr>\n",
       "    <tr>\n",
       "      <th>Taylor</th>\n",
       "      <td>320446.0</td>\n",
       "      <td>110390.0</td>\n",
       "    </tr>\n",
       "    <tr>\n",
       "      <th>Jessie</th>\n",
       "      <td>167462.0</td>\n",
       "      <td>110212.0</td>\n",
       "    </tr>\n",
       "  </tbody>\n",
       "</table>\n",
       "</div>"
      ],
      "text/plain": [
       "Gender         F         M\n",
       "Name                      \n",
       "Willie  146156.0  448946.0\n",
       "Jordan  131004.0  374513.0\n",
       "Leslie  267081.0  112726.0\n",
       "Taylor  320446.0  110390.0\n",
       "Jessie  167462.0  110212.0"
      ]
     },
     "execution_count": 67,
     "metadata": {},
     "output_type": "execute_result"
    }
   ],
   "source": [
    "unisex.loc[unisex_names].head(5)"
   ]
  },
  {
   "cell_type": "markdown",
   "metadata": {},
   "source": [
    "### Way 2"
   ]
  },
  {
   "cell_type": "code",
   "execution_count": 71,
   "metadata": {},
   "outputs": [],
   "source": [
    "unisex = unisex[unisex.min(axis = 1) > 10000]"
   ]
  },
  {
   "cell_type": "code",
   "execution_count": 79,
   "metadata": {},
   "outputs": [],
   "source": [
    "unisex_names = abs(unisex.F.div(unisex.M).sub(1)).sort_values().index"
   ]
  },
  {
   "cell_type": "code",
   "execution_count": 80,
   "metadata": {},
   "outputs": [
    {
     "data": {
      "text/html": [
       "<div>\n",
       "<style scoped>\n",
       "    .dataframe tbody tr th:only-of-type {\n",
       "        vertical-align: middle;\n",
       "    }\n",
       "\n",
       "    .dataframe tbody tr th {\n",
       "        vertical-align: top;\n",
       "    }\n",
       "\n",
       "    .dataframe thead th {\n",
       "        text-align: right;\n",
       "    }\n",
       "</style>\n",
       "<table border=\"1\" class=\"dataframe\">\n",
       "  <thead>\n",
       "    <tr style=\"text-align: right;\">\n",
       "      <th>Gender</th>\n",
       "      <th>F</th>\n",
       "      <th>M</th>\n",
       "    </tr>\n",
       "    <tr>\n",
       "      <th>Name</th>\n",
       "      <th></th>\n",
       "      <th></th>\n",
       "    </tr>\n",
       "  </thead>\n",
       "  <tbody>\n",
       "    <tr>\n",
       "      <th>Elisha</th>\n",
       "      <td>13762.0</td>\n",
       "      <td>13595.0</td>\n",
       "    </tr>\n",
       "    <tr>\n",
       "      <th>Quinn</th>\n",
       "      <td>31670.0</td>\n",
       "      <td>32071.0</td>\n",
       "    </tr>\n",
       "    <tr>\n",
       "      <th>Kerry</th>\n",
       "      <td>48549.0</td>\n",
       "      <td>49646.0</td>\n",
       "    </tr>\n",
       "    <tr>\n",
       "      <th>Blair</th>\n",
       "      <td>14922.0</td>\n",
       "      <td>14527.0</td>\n",
       "    </tr>\n",
       "    <tr>\n",
       "      <th>Kris</th>\n",
       "      <td>13504.0</td>\n",
       "      <td>14055.0</td>\n",
       "    </tr>\n",
       "  </tbody>\n",
       "</table>\n",
       "</div>"
      ],
      "text/plain": [
       "Gender        F        M\n",
       "Name                    \n",
       "Elisha  13762.0  13595.0\n",
       "Quinn   31670.0  32071.0\n",
       "Kerry   48549.0  49646.0\n",
       "Blair   14922.0  14527.0\n",
       "Kris    13504.0  14055.0"
      ]
     },
     "execution_count": 80,
     "metadata": {},
     "output_type": "execute_result"
    }
   ],
   "source": [
    "unisex.loc[unisex_names].head(5)"
   ]
  },
  {
   "cell_type": "code",
   "execution_count": null,
   "metadata": {},
   "outputs": [],
   "source": []
  }
 ],
 "metadata": {
  "kernelspec": {
   "display_name": "Python 3 (ipykernel)",
   "language": "python",
   "name": "python3"
  },
  "language_info": {
   "codemirror_mode": {
    "name": "ipython",
    "version": 3
   },
   "file_extension": ".py",
   "mimetype": "text/x-python",
   "name": "python",
   "nbconvert_exporter": "python",
   "pygments_lexer": "ipython3",
   "version": "3.10.4"
  }
 },
 "nbformat": 4,
 "nbformat_minor": 4
}
